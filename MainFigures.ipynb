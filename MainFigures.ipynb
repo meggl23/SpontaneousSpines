{
 "cells": [
  {
   "cell_type": "code",
   "execution_count": null,
   "id": "db1882bc",
   "metadata": {
    "ExecuteTime": {
     "end_time": "2023-04-24T14:43:59.301240Z",
     "start_time": "2023-04-24T14:43:58.307112Z"
    }
   },
   "outputs": [],
   "source": [
    "import numpy as np\n",
    "\n",
    "import scipy as sp\n",
    "import scipy.stats as stats\n",
    "from scipy.stats import linregress,t\n",
    "from scipy.optimize import curve_fit\n",
    "\n",
    "import matplotlib.pyplot as plt\n",
    "from matplotlib import rc\n",
    "plt.rc('text', usetex=True)\n",
    "font = {'family' : 'serif',\n",
    "        'size'   : 14}\n",
    "plt.rc('font', **font)\n",
    "plt.rc('ytick', labelsize=28) \n",
    "plt.rc('xtick', labelsize=28)\n",
    "from matplotlib.colors import LinearSegmentedColormap\n",
    "\n",
    "import json\n",
    "import os\n",
    "import math\n",
    "\n",
    "\n",
    "from ipywidgets import interact,interactive\n",
    "import ipywidgets as widgets\n",
    "\n",
    "from mpl_toolkits.mplot3d import Axes3D\n",
    "import seaborn as sns"
   ]
  },
  {
   "cell_type": "code",
   "execution_count": null,
   "id": "8e90ee81",
   "metadata": {
    "ExecuteTime": {
     "end_time": "2023-04-24T14:43:59.303938Z",
     "start_time": "2023-04-24T14:43:59.302437Z"
    }
   },
   "outputs": [],
   "source": [
    "times = [-15,-10,-5,2,10,20,30,40]\n"
   ]
  },
  {
   "cell_type": "code",
   "execution_count": null,
   "id": "7e48b892",
   "metadata": {
    "ExecuteTime": {
     "end_time": "2023-04-24T14:43:59.318521Z",
     "start_time": "2023-04-24T14:43:59.304771Z"
    }
   },
   "outputs": [],
   "source": [
    "def ReadFiles(Dir):\n",
    "    Accept = []\n",
    "    for d in os.listdir(Dir):\n",
    "        try:\n",
    "            if('Synapse_a.json' in os.listdir(Dir+d) ):\n",
    "                Accept.append(d)\n",
    "        except:\n",
    "            pass\n",
    "    print(Accept)   \n",
    "    Syn_a_arr = []\n",
    "    bg_l      = []\n",
    "    for a in Accept:\n",
    "        with open(Dir+a+'/Synapse_a.json', 'r') as fp: Syn_a_arr.append(json.load(fp))\n",
    "    Areas_arr = []\n",
    "    Dist_arr  = []\n",
    "    bg_arr = []\n",
    "    kk = 0\n",
    "    for Syn_a in Syn_a_arr:\n",
    "        kk+=1\n",
    "        areas = np.array([S[\"area\"] for S in Syn_a])\n",
    "        if(not Syn_a[0][\"Times\"]==times):\n",
    "            for l in np.sort(list(set(times)-set(Syn_a[0][\"Times\"]))[::-1]):\n",
    "                areas = np.insert(areas,times.index(l),math.nan,-1)\n",
    "                \n",
    "        dist_a = [S[\"distance\"] for S in Syn_a]\n",
    "        Dist_arr  = Dist_arr+dist_a\n",
    "        Areas_arr.append(areas)\n",
    "    Areas_arr_b = np.vstack(Areas_arr)\n",
    "    Dist_arr_b = np.array(Dist_arr)#    \n",
    "    Areas_arr_b = (Areas_arr_b.T/Areas_arr_b[:,:3].mean(axis=1)).T\n",
    "    return Dist_arr_b,Areas_arr_b,(Areas_arr,Dist_arr)\n",
    "\n",
    "#===================================================================================\n",
    "#===================================================================================\n",
    "def barplot_annotate_brackets(num1, num2, data, center, height, yerr=None, dh=.05, barh=.05, fs=20, maxasterix=1,offS=0.6):\n",
    "    \"\"\" \n",
    "    Annotate barplot with p-values.\n",
    "\n",
    "    :param num1: number of left bar to put bracket over\n",
    "    :param num2: number of right bar to put bracket over\n",
    "    :param data: string to write or number for generating asterixes\n",
    "    :param center: centers of all bars (like plt.bar() input)\n",
    "    :param height: heights of all bars (like plt.bar() input)\n",
    "    :param yerr: yerrs of all bars (like plt.bar() input)\n",
    "    :param dh: height offset over bar / bar + yerr in axes coordinates (0 to 1)\n",
    "    :param barh: bar height in axes coordinates (0 to 1)\n",
    "    :param fs: font size\n",
    "    :param maxasterix: maximum number of asterixes to write (for very small p-values)\n",
    "    \"\"\"\n",
    "\n",
    "    if type(data) is str:\n",
    "        text = data\n",
    "    else:\n",
    "        # * is p < 0.05\n",
    "        # ** is p < 0.005\n",
    "        # *** is p < 0.0005\n",
    "        # etc.\n",
    "        text = ''\n",
    "        p = .05\n",
    "\n",
    "        while data < p:\n",
    "            text += '*'\n",
    "            p /= 10.\n",
    "\n",
    "            if maxasterix and len(text) == maxasterix:\n",
    "                break\n",
    "\n",
    "        if(p<0.05):\n",
    "            text = r'*'\n",
    "        else:\n",
    "            text = r'n.s.'\n",
    "    lx, ly = center[num1], height[num1]\n",
    "    rx, ry = center[num2], height[num2]\n",
    "\n",
    "    if yerr:\n",
    "        ly += yerr[num1]\n",
    "        ry += yerr[num2]\n",
    "\n",
    "    ax_y0, ax_y1 = plt.gca().get_ylim()\n",
    "    dh *= (ax_y1 - ax_y0)\n",
    "    barh *= (ax_y1 - ax_y0)\n",
    "\n",
    "    y = max(ly, ry) + dh\n",
    "\n",
    "    barx = [lx, lx, rx, rx]\n",
    "    bary = [y, y+barh, y+barh, y]\n",
    "    mid = ((lx+rx)/2, y+barh)\n",
    "\n",
    "    plt.plot(barx, bary, c='black')\n",
    "\n",
    "    kwargs = dict(ha='center', va='bottom')\n",
    "    if fs is not None:\n",
    "        kwargs['fontsize'] = fs\n",
    "\n",
    "    plt.text(*mid, text, **kwargs)\n",
    "\n",
    "    return max(ly, ry)\n",
    "\n",
    "def pltDist(S):\n",
    "    A=S.T\n",
    "    fig,ax = plt.subplots(1,3,figsize=(15,5))\n",
    "    x  = ax[0].hist(A[:,0],bins=30,density=True)\n",
    "    ax[0].axvline(np.nanmean(A[:,0]),c='g')\n",
    "    ax[0].plot((x[1][:-1]+x[1][1:])/2,x[0]/(sum(x[0])*(x[1][1]-x[1][0])),'r')\n",
    "    means = []\n",
    "    sem = []\n",
    "    for i,a in enumerate(A.T[:-1]):\n",
    "        x = np.histogram(a,bins=15,density=True)\n",
    "        if(i==0):\n",
    "            ax[1].plot((x[1][:-1]+x[1][1:])/2,x[0]/(sum(x[0])*(x[1][1]-x[1][0])),'r')\n",
    "        else:\n",
    "            ax[1].plot((x[1][:-1]+x[1][1:])/2,x[0]/(sum(x[0])*(x[1][1]-x[1][0])),'b')\n",
    "        means.append(a.mean())\n",
    "        sem.append(stats.sem(a)) \n",
    "    ax[2].errorbar(x = range(len(means)),y = means, yerr=sem, label='both limits (default)')\n",
    "    ax[2].set_ylim(np.nanmin(A),np.nanmax(A))\n",
    "    plt.show()\n",
    "    print('means:',means)\n",
    "    \n",
    "def pltDyn(S):\n",
    "    A = S\n",
    "    col ='k'\n",
    "    for i in range(2):\n",
    "        fig,ax = plt.subplots(1,3,figsize=(15,5))\n",
    "        x = ax[0].hist(A[i+1]-A[i])\n",
    "        x = ax[1].scatter((A[i+2]-A[i+1]),(A[i+1]-A[i]),c=col)\n",
    "        col = np.where(A[i+1]-A[i]<0,'r',np.where(A[i+1]-A[i]>0,'b','r'))\n",
    "        ax[1].set_ylabel('\\huge{$i$}')\n",
    "        ax[1].set_xlabel('\\huge{$i+\\delta i$}')\n",
    "        ax[1].set_xticks([])\n",
    "        ax[1].set_yticks([])\n",
    "        ax[1].axvline(0,c='r')\n",
    "        ax[1].axhline(0,c='r')\n",
    "        x = ax[2].hist(A[i+2]-A[i+1])\n",
    "        plt.show()\n",
    "        ss = sum(np.logical_and((A[i+2]-A[i+1])<0,(A[i+1]-A[i])<0))\n",
    "        gg = sum(np.logical_and((A[i+2]-A[i+1])>0,(A[i+1]-A[i])>0))\n",
    "        gs = sum(np.logical_and((A[i+2]-A[i+1])>0,(A[i+1]-A[i])<0))\n",
    "        sg = sum(np.logical_and((A[i+2]-A[i+1])<0,(A[i+1]-A[i])>0))\n",
    "        g = sum((A[i+1]-A[i])>0)\n",
    "        s = sum((A[i+1]-A[i])<0)\n",
    "        print(\"Correlation: {:0.2}\".format(np.corrcoef(A[i+2]-A[i+1],A[i+1]-A[i+0])[1,0]))\n",
    "        print(\"shrink-shrink: {:2.2%}\".format(ss/len(A[i+2]-A[i+1])))\n",
    "        print(\"grow-grow: {:2.2%}\".format(gg/len(A[i+2]-A[i+1])))\n",
    "        print(\"grow-shrink: {:2.2%}\".format(gs/len(A[i+2]-A[i+1])))\n",
    "        print(\"shrink-grow: {:2.2%}\".format(sg/len(A[i+2]-A[i+1])))\n",
    "        print(\"shrink given that you grew: {:2.2%}\".format(sg/g))\n",
    "        print(\"grow given that you shrunk: {:2.2%}\".format(gs/s))\n",
    "        print('='*100)"
   ]
  },
  {
   "cell_type": "code",
   "execution_count": null,
   "id": "7d7252f6",
   "metadata": {
    "ExecuteTime": {
     "end_time": "2023-04-24T14:43:59.364981Z",
     "start_time": "2023-04-24T14:43:59.319544Z"
    }
   },
   "outputs": [],
   "source": [
    "BaseDir = 'Data/'\n",
    "Dir = BaseDir+'CA1_15Spine/Sham/'\n",
    "D15,A1,(A1raw,_) = ReadFiles(Dir)\n",
    "A1raw15 = np.vstack(A1raw)\n",
    "Dir = BaseDir+'CA1_7Spine/Sham/'\n",
    "D7,A1,(A1raw,_) = ReadFiles(Dir)\n",
    "A1raw7 = np.vstack(A1raw)\n",
    "Dir = BaseDir+'CA1_3Spine/Sham/'\n",
    "D3,A1,(A1raw,_) = ReadFiles(Dir)\n",
    "A1raw3 = np.vstack(A1raw)\n",
    "Dir = BaseDir+'CA1_1Spine/Sham/'\n",
    "D1,A1,(A1raw,_) = ReadFiles(Dir)\n",
    "A1raw1 = np.vstack(A1raw)\n",
    "Araw = np.vstack([A1raw1,A1raw3,A1raw7,A1raw15]).T\n",
    "Araw = Araw[:,~np.isnan(Araw.sum(axis=0))]"
   ]
  },
  {
   "cell_type": "markdown",
   "id": "d01efd47",
   "metadata": {},
   "source": [
    "# Figures"
   ]
  },
  {
   "cell_type": "markdown",
   "id": "903ac9a7",
   "metadata": {},
   "source": [
    "## Figure 1"
   ]
  },
  {
   "cell_type": "markdown",
   "id": "4ad1a260",
   "metadata": {
    "ExecuteTime": {
     "end_time": "2023-04-24T11:33:28.066586Z",
     "start_time": "2023-04-24T11:33:28.064138Z"
    }
   },
   "source": [
    "### c"
   ]
  },
  {
   "cell_type": "code",
   "execution_count": null,
   "id": "fb7aa3d6",
   "metadata": {
    "ExecuteTime": {
     "end_time": "2023-04-24T14:43:59.642874Z",
     "start_time": "2023-04-24T14:43:59.366960Z"
    }
   },
   "outputs": [],
   "source": [
    "A=Araw[~np.isnan(Araw.sum(axis=1)),:]\n",
    "means_expt = []\n",
    "sem_expt = []\n",
    "red = np.array([1,0,0])\n",
    "blue = np.array([0,0,1])\n",
    "for i,a in enumerate(A):\n",
    "    x = np.histogram(a,bins=15,density=True)\n",
    "    sns.kdeplot(a,c=i/7*blue + (7-i)/7*red,lw=3)\n",
    "    means_expt.append(a.mean())\n",
    "    sem_expt.append(stats.sem(a))\n",
    "plt.ylabel('')\n",
    "ax = plt.gca()\n",
    "ax.spines[\"right\"].set_visible(False)\n",
    "ax.spines[\"top\"].set_visible(False)\n",
    "ax.set_yticks([])\n",
    "plt.show()"
   ]
  },
  {
   "cell_type": "code",
   "execution_count": null,
   "id": "d625a5b7",
   "metadata": {
    "ExecuteTime": {
     "end_time": "2023-04-24T14:43:59.749339Z",
     "start_time": "2023-04-24T14:43:59.644300Z"
    }
   },
   "outputs": [],
   "source": [
    "plt.errorbar(x = np.arange(8),y = means_expt, yerr=sem_expt,lw=4,c='r',label='Pop. mean')\n",
    "plt.plot(np.arange(8),Araw[:,11],lw=4,c='k',alpha=0.25)\n",
    "plt.plot(np.arange(8),Araw[:,2],lw=4,c='k',alpha=0.25)\n",
    "plt.plot(np.arange(8),Araw[:,0],lw=4,c='k',alpha=0.25,label='Ex. Spines')\n",
    "\n",
    "plt.yticks(fontsize=48)\n",
    "plt.xticks(fontsize=48)\n",
    "leg = plt.legend(fontsize=54,loc=1,bbox_to_anchor=(1.3,1.65))\n",
    "leg.get_frame().set_linewidth(0.0)\n",
    "ax  = plt.gca()\n",
    "ax.spines[\"right\"].set_visible(False)\n",
    "ax.spines[\"top\"].set_visible(False)\n",
    "ax.spines[\"right\"].set_visible(False)\n",
    "ax.spines[\"top\"].set_visible(False)"
   ]
  },
  {
   "cell_type": "markdown",
   "id": "1859d51e",
   "metadata": {},
   "source": [
    "### d"
   ]
  },
  {
   "cell_type": "code",
   "execution_count": null,
   "id": "13202832",
   "metadata": {
    "ExecuteTime": {
     "end_time": "2023-04-24T14:44:00.059288Z",
     "start_time": "2023-04-24T14:43:59.751008Z"
    }
   },
   "outputs": [],
   "source": [
    "col ='k'\n",
    "A = Araw.T[~np.isnan(Araw.T.sum(axis=1)),:].T\n",
    "Del = []\n",
    "for i in range(7):\n",
    "    Del.append(A[i+1]-A[i])\n",
    "fig = plt.figure(figsize=(12,12))\n",
    "ax = fig.add_subplot(111, projection='3d')\n",
    "nbins = 50\n",
    "red = np.array([1,0,0])\n",
    "blue = np.array([0,0,1])\n",
    "for i,(z,d) in enumerate(zip([120,100,80,60, 40, 20, 0],Del)):\n",
    "    hist, bins = np.histogram(d, bins=nbins,density=True)\n",
    "    xs = (bins[:-1] + bins[1:])/2\n",
    "\n",
    "    ax.bar(xs, hist, zs=z, zdir='x', \n",
    "           color=i/7*blue + (7-i)/7*red,alpha=0.5,width=(xs[-1]-xs[0])/nbins)\n",
    "    mu, std = stats.norm.fit(d)\n",
    "    x = np.linspace(-0.6,0.6)\n",
    "    p = stats.norm.pdf(x, mu, std)\n",
    "    ax.plot(x,p,zs=z, zdir='x', linewidth=2,c='k')\n",
    "ax.view_init(elev=30., azim=-50)\n",
    "ax.set_ylim(-0.6,0.6)\n",
    "ax.set_xticks([])\n",
    "ax.set_zticks([])\n",
    "ax.yaxis.labelpad = 10\n",
    "ax.tick_params(axis='y', labelsize=40)"
   ]
  },
  {
   "cell_type": "markdown",
   "id": "dbe7fa8c",
   "metadata": {},
   "source": [
    "### e"
   ]
  },
  {
   "cell_type": "code",
   "execution_count": null,
   "id": "de918bbc",
   "metadata": {
    "ExecuteTime": {
     "end_time": "2023-04-24T14:44:00.236210Z",
     "start_time": "2023-04-24T14:44:00.060758Z"
    }
   },
   "outputs": [],
   "source": [
    "col ='k'\n",
    "A = Araw.T[~np.isnan(Araw.T.sum(axis=1)),:].T\n",
    "Del = []\n",
    "for i in range(7):\n",
    "    Del.append(A[i+1]-A[i])\n",
    "DelF = np.vstack(Del).flatten()\n",
    "mu = -0.0007436013701439731\n",
    "std = 0.07383571332975278\n",
    "x = np.linspace(DelF.min(),DelF.max(),100)\n",
    "plt.hist(DelF,bins=100,width=0.013,density=True,color='r')\n",
    "p = stats.norm.pdf(x, mu, std)\n",
    "plt.plot(x, p, 'k', linewidth=2)\n",
    "plt.xlim([-0.5,0.5])\n",
    "plt.text(x=0.05,y=5,s=\"Mean: {:0.3}\".format(mu),fontsize=24)\n",
    "plt.text(x=0.1,y=4.3,s=\"STD: {:0.3}\".format(std),fontsize=24)\n",
    "plt.yticks([])\n",
    "m = stats.lognorm.fit(DelF)\n",
    "x = np.linspace(DelF.min(),DelF.max())\n",
    "p = stats.lognorm.pdf(x, m[0], loc=m[1],scale=m[2])\n",
    "stats.kstest(DelF,'lognorm',args=(m[0],m[1],m[2]))\n",
    "ax = plt.gca()\n",
    "ax.spines[\"right\"].set_visible(False)\n",
    "ax.spines[\"top\"].set_visible(False)\n",
    "plt.show()"
   ]
  },
  {
   "cell_type": "markdown",
   "id": "d81ccd16",
   "metadata": {},
   "source": [
    "### f"
   ]
  },
  {
   "cell_type": "code",
   "execution_count": null,
   "id": "885da45a",
   "metadata": {
    "ExecuteTime": {
     "end_time": "2023-04-24T14:44:00.481995Z",
     "start_time": "2023-04-24T14:44:00.237122Z"
    }
   },
   "outputs": [],
   "source": [
    "colors = [(1.0,0.0, 0.0),(0,0,1)] # first color is black, last is red\n",
    "cm = LinearSegmentedColormap.from_list(\n",
    "        \"Custom\", colors, N=20)\n",
    "A = Araw#.T\n",
    "ArawD = A[1:] - A[:-1] \n",
    "CorrMat = np.zeros((7,7))\n",
    "for i,a1 in enumerate(ArawD):\n",
    "    for j,a2 in enumerate(ArawD):\n",
    "        CorrMat[i,j] = np.corrcoef(a1[~np.logical_or(np.isnan(a1),np.isnan(a2))],a2[~np.logical_or(np.isnan(a1),np.isnan(a2))])[1,0]\n",
    "\n",
    "for i in range(7):\n",
    "    CorrMat[i,i] = math.nan\n",
    "fig,ax = plt.subplots(figsize=(12,12))\n",
    "g = ax.imshow(CorrMat,cmap=cm)\n",
    "cbar = plt.colorbar(g,fraction=0.046, pad=0.04)\n",
    "cbar.ax.tick_params(labelsize=64)\n",
    "plt.xticks([0,1,2,3,4,5,6],np.arange(1,8),fontsize=64)\n",
    "plt.yticks([0,1,2,3,4,5,6],np.arange(1,8),fontsize=64)\n",
    "ax = plt.gca()\n",
    "# Minor ticks\n",
    "ax.set_xticks(np.arange(-.5, 7, 1), minor=True)\n",
    "ax.set_yticks(np.arange(-.5, 7, 1), minor=True)\n",
    "\n",
    "# Gridlines based on minor ticks\n",
    "ax.grid(which='minor', color='w', linestyle='-', linewidth=2)\n",
    "\n",
    "# Remove minor ticks\n",
    "ax.tick_params(which='minor', bottom=False, left=False)"
   ]
  },
  {
   "cell_type": "markdown",
   "id": "d555a5aa",
   "metadata": {},
   "source": [
    "### g"
   ]
  },
  {
   "cell_type": "code",
   "execution_count": null,
   "id": "a0a3ec88",
   "metadata": {
    "ExecuteTime": {
     "end_time": "2023-04-24T14:44:00.550542Z",
     "start_time": "2023-04-24T14:44:00.482957Z"
    }
   },
   "outputs": [],
   "source": [
    "A = Araw\n",
    "col ='k'\n",
    "i=5\n",
    "fig,ax = plt.subplots()\n",
    "x = ax.scatter((A[i+2]-A[i+1]),(A[i+1]-A[i]),c='r')\n",
    "slope, intercept, r_value, p_value, std_err = stats.linregress((A[i+2]-A[i+1]),(A[i+1]-A[i]))\n",
    "amin = min((A[i+2]-A[i+1]).min(),(A[i+1]-A[i]).min())\n",
    "amax = max((A[i+2]-A[i+1]).max(),(A[i+1]-A[i]).max())\n",
    "plt.plot(np.arange(amin,amax,0.1),np.arange(amin,amax,0.1)*slope+intercept,'k',lw=3)\n",
    "\n",
    "A1 = np.roll(Araw,-1,axis=0)[:-2,:]-Araw[:-2,:]\n",
    "A2 = np.roll(Araw,-2,axis=0)[:-2,:]-np.roll(Araw,-1,axis=0)[:-2,:]\n",
    "Corr = []\n",
    "for a1,a2 in zip(A1,A2):\n",
    "    i+=1\n",
    "    Corr.append(np.corrcoef(a1,a2)[1,0])\n",
    "plt.text(x=-0.15,y=0.39,s=\"Avg. Correlation: {:0.3}\".format(np.mean(Corr)),fontsize=24)\n",
    "ax = plt.gca()\n",
    "ax.spines[\"right\"].set_visible(False)\n",
    "ax.spines[\"top\"].set_visible(False)\n",
    "\n"
   ]
  },
  {
   "cell_type": "markdown",
   "id": "e71a131f",
   "metadata": {
    "ExecuteTime": {
     "end_time": "2023-04-24T11:36:31.245084Z",
     "start_time": "2023-04-24T11:36:31.238791Z"
    }
   },
   "source": [
    "### h"
   ]
  },
  {
   "cell_type": "code",
   "execution_count": null,
   "id": "a5964fbc",
   "metadata": {
    "ExecuteTime": {
     "end_time": "2023-04-24T14:44:00.869302Z",
     "start_time": "2023-04-24T14:44:00.551489Z"
    }
   },
   "outputs": [],
   "source": [
    "lowermean = []\n",
    "lowerstd  = []\n",
    "uppermean = []\n",
    "upperstd  = []\n",
    "Del_tot = []\n",
    "for Cutoff in np.arange(0.2,0.8,0.15):\n",
    "    col ='k'\n",
    "    A = Araw\n",
    "    Del1 = []\n",
    "    for i in range(7):\n",
    "        mask = np.logical_and(A[i]>Cutoff,A[i]<Cutoff+0.15)\n",
    "        Del1.append(A[i+1,mask]-A[i,mask])\n",
    "    Del_tot.append(Del1)\n",
    "fig = plt.figure(figsize=(12,12))\n",
    "ax = fig.add_subplot(111, projection='3d')\n",
    "nbins = 50\n",
    "red = np.array([1,0,0])\n",
    "blue = np.array([0,0,1])\n",
    "P = []\n",
    "for i,(z,d) in enumerate(zip([0.2,0.35,0.5,0.65],Del_tot)):\n",
    "    d = np.hstack(d)\n",
    "    hist, bins = np.histogram(d, bins=50,density=True)\n",
    "    xs = (bins[:-1] + bins[1:])/2\n",
    "    m = stats.lognorm.fit(d)\n",
    "    ax.bar(xs, hist, zs=z, zdir='x', color=red,alpha=0.5,width=(xs[-1]-xs[0])/nbins)\n",
    "    x = np.linspace(-0.5,0.6)\n",
    "    p1 = stats.lognorm.pdf(x, m[0], loc=m[1],scale=m[2])\n",
    "    P.append(p1)\n",
    "    ax.plot(x,p1,zs=z, zdir='x', linewidth=2,c='k')\n",
    "ax.view_init(elev=30., azim=-30)\n",
    "ax.set_ylim(-0.6,0.6)\n",
    "plt.xticks(fontsize=40)\n",
    "plt.yticks(fontsize=40)\n",
    "ax.set_zticks([])\n",
    "ax.yaxis.labelpad = 10\n",
    "ax.xaxis.labelpad = 10\n",
    "plt.gca().invert_xaxis()"
   ]
  },
  {
   "cell_type": "markdown",
   "id": "15a01128",
   "metadata": {},
   "source": [
    "## Figure 2"
   ]
  },
  {
   "cell_type": "markdown",
   "id": "c0d54e7c",
   "metadata": {},
   "source": [
    "### a"
   ]
  },
  {
   "cell_type": "code",
   "execution_count": null,
   "id": "0755092b",
   "metadata": {
    "ExecuteTime": {
     "end_time": "2023-04-24T14:44:01.216875Z",
     "start_time": "2023-04-24T14:44:00.870250Z"
    }
   },
   "outputs": [],
   "source": [
    "fig,ax = plt.subplots(figsize=(12,24))\n",
    "col ='k'\n",
    "A = Araw.T\n",
    "Del = A\n",
    "DelF = np.vstack(Del[:,0]).flatten()#np.vstack(Del).flatten()\n",
    "DelF = np.ma.masked_invalid(DelF)\n",
    "red   = np.array([1,0,0])\n",
    "mu, std = stats.norm.fit(DelF)\n",
    "x = np.linspace(DelF.min(),DelF.max())\n",
    "plt.hist(DelF,bins=50,density=True,color='red',label='Expt. data')\n",
    "p = stats.norm.pdf(x, mu, std)\n",
    "k = stats.kstest(DelF,'norm',args=(mu,std))\n",
    "plt.plot(x, p, c=blue, linewidth=5)#,label='Gaussian,\\n $k = $ {:0.2} \\n  $p$ = {:0.2}'.format(k.statistic,k.pvalue))\n",
    "stats.kstest(DelF,'norm',args=(mu,std))\n",
    "plt.plot([],[], marker='s',linestyle='None',c=blue, linewidth=5,\n",
    "         label='Gaussian$^*$,\\n $k = $ {:0.2}'.format(k.statistic,k.pvalue))\n",
    "\n",
    "mu, std = stats.maxwell.fit(DelF)\n",
    "p = stats.maxwell.pdf(x, mu, std)\n",
    "k = stats.kstest(DelF,'maxwell',args=(mu,std))\n",
    "plt.plot(x, p, c=0.8*blue, linewidth=5)#,label='Maxwell,\\n $k = $ {:0.2} \\n  $p$ = {:0.2}'.format(k.statistic,k.pvalue))\n",
    "plt.plot([],[], marker='s',linestyle='None',c=0.8*blue, linewidth=5,\n",
    "         label='Maxwell$^*$,\\n $k = $ {:0.2}'.format(k.statistic,k.pvalue))\n",
    "\n",
    "m = stats.gamma.fit(DelF)\n",
    "p = stats.gamma.pdf(x, m[0], loc=m[1],scale=m[2])\n",
    "k = stats.kstest(DelF,'gamma',args=(m[0],m[1],m[2]))\n",
    "plt.plot(x, p, c=0.6*blue, linewidth=5)#,label='Gamma,\\n $k = $ {:0.2} \\n  $p$ = {:0.2}'.format(k.statistic,k.pvalue))\n",
    "plt.plot([],[], marker='s',linestyle='None',c=0.6*blue, linewidth=5,\n",
    "         label='Gamma,\\n $k = $ {:0.2}'.format(k.statistic,k.pvalue))\n",
    "\n",
    "m = stats.skewnorm.fit(DelF)\n",
    "p = stats.skewnorm.pdf(x, m[0], loc=m[1],scale=m[2])\n",
    "k = stats.kstest(DelF,'skewnorm',args=(m[0],m[1],m[2]))\n",
    "plt.plot(x, p, c=0.4*blue, linewidth=5)#,label='Skew gaussian,\\n $k = $ {:0.2} \\n  $p$ = {:0.2}'.format(k.statistic,k.pvalue))\n",
    "plt.plot([],[], marker='s',linestyle='None',c=0.4*blue, linewidth=5,\n",
    "         label='Skew gaussian$^*$,\\n $k = $ {:0.2}'.format(k.statistic,k.pvalue))\n",
    "\n",
    "m = stats.lognorm.fit(DelF)\n",
    "p = stats.lognorm.pdf(x, m[0], loc=m[1],scale=m[2])\n",
    "k = stats.kstest(DelF,'lognorm',args=(m[0],m[1],m[2]))\n",
    "\n",
    "plt.plot(x, p, 'k', linewidth=5,)\n",
    "plt.plot([],[], 'sk', linewidth=5,\n",
    "         label='LogNormal,\\n $k = $ {:0.2}'.format(k.statistic,k.pvalue))\n",
    "plt.yticks([])\n",
    "plt.xticks(fontsize=64)\n",
    "plt.xlim([0.2,1.5])\n",
    "ax = plt.gca()\n",
    "ax.spines[\"right\"].set_visible(False)\n",
    "ax.spines[\"top\"].set_visible(False)\n",
    "leg = ax.legend(loc=1,fontsize=48, markerscale=3,bbox_to_anchor=(1.1,1.))\n",
    "leg.get_frame().set_linewidth(0.0)\n"
   ]
  },
  {
   "cell_type": "markdown",
   "id": "ee0a8fa4",
   "metadata": {},
   "source": [
    "### b"
   ]
  },
  {
   "cell_type": "code",
   "execution_count": null,
   "id": "cf633cdb",
   "metadata": {
    "ExecuteTime": {
     "end_time": "2023-04-24T14:44:02.674408Z",
     "start_time": "2023-04-24T14:44:01.217701Z"
    }
   },
   "outputs": [],
   "source": [
    "plt.subplots\n",
    "lowermean = []\n",
    "lowerstd  = []\n",
    "uppermean = []\n",
    "upperstd  = []\n",
    "semMean = []\n",
    "semSTD  = []\n",
    "for Cutoff in np.arange(0.2,1.0,0.15):\n",
    "    col ='k'\n",
    "    A = Araw\n",
    "    Del1 = []\n",
    "    for i in range(7):\n",
    "        mask = np.logical_and(A[i]>Cutoff,A[i]<Cutoff+0.15)\n",
    "        Del1.append(A[i+1,mask]-A[i,mask])\n",
    "    DelF = np.hstack(Del1).flatten()\n",
    "    DelF = np.hstack(Del1).flatten()\n",
    "    mu, std = stats.norm.fit(DelF)\n",
    "    semMean.append(stats.bootstrap((DelF,), np.mean, confidence_level=0.95,\n",
    "                         random_state=1, method='percentile').standard_error)\n",
    "    semSTD.append(stats.bootstrap((DelF,), np.std, confidence_level=0.95,\n",
    "                     random_state=1, method='percentile').standard_error)\n",
    "    lowermean.append(mu)\n",
    "    lowerstd.append(std)\n",
    "ml = stats.linregress(np.arange(0.2,1.0,0.15),lowermean)\n",
    "sl = stats.linregress(np.arange(0.2,1.0,0.15),lowerstd)\n",
    "plt.errorbar(np.arange(0.2,1.0,0.15),lowermean,semMean,capsize=5,ls='None',ms=15,fmt='.',color='r')\n",
    "plt.plot(np.arange(0.2,1.0,0.15),np.arange(0.2,1.0,0.15)*ml.slope+ml.intercept,ls='--',c=blue+[0.5,0.5,0],lw=3,label='Best fit LN Model')\n",
    "plt.errorbar(np.arange(0.2,1.0,0.15),lowerstd,semSTD,capsize=5,ls='None',ms=7,fmt='s',color='r')\n",
    "plt.plot(np.arange(0.2,1.0,0.15),np.arange(0.2,1.0,0.15)*sl.slope+sl.intercept,ls='--',c=blue*0.5,lw=3)\n",
    "\n",
    "print(\"Slope of mean: {:.3} and intercept: {:.3}\".format(ml.slope,ml.intercept))\n",
    "print(\"Slope of std: {:.3} and intercept: {:.3}\".format(sl.slope,sl.intercept))\n",
    "plt.text(x=0.3,y=0.1,s=\"Fit of std. of changes\",rotation=13,fontsize=24)\n",
    "plt.text(x=0.4,y=-0.14,s=\"Fit of mean changes\",rotation=-18,fontsize=24)\n",
    "ax = plt.gca()\n",
    "ax.spines[\"right\"].set_visible(False)\n",
    "ax.spines[\"top\"].set_visible(False)\n",
    "\n",
    "plt.xticks(fontsize=24)\n",
    "plt.yticks(fontsize=24)\n",
    "plt.show()"
   ]
  },
  {
   "cell_type": "markdown",
   "id": "0aaa7bc2",
   "metadata": {
    "ExecuteTime": {
     "end_time": "2023-04-24T11:45:54.656350Z",
     "start_time": "2023-04-24T11:45:54.649232Z"
    }
   },
   "source": [
    "### c"
   ]
  },
  {
   "cell_type": "code",
   "execution_count": null,
   "id": "8738813a",
   "metadata": {
    "ExecuteTime": {
     "end_time": "2023-04-24T14:44:12.427383Z",
     "start_time": "2023-04-24T14:44:02.677230Z"
    }
   },
   "outputs": [],
   "source": [
    "def ContLN():\n",
    "    fmean = sp.interpolate.interp1d(np.arange(-5.0,5.0,0.15),np.arange(-5.0,5.0,0.15)*ml.slope+ml.intercept)\n",
    "    fstd = sp.interpolate.interp1d(np.arange(-5.0,5.0,0.15),np.arange(-5.0,5.0,0.15)*sl.slope+sl.intercept)\n",
    "    fstd2 = sp.interpolate.interp1d(np.arange(-5.0,5.0,0.15),np.arange(-5.0,5.0,0.15)*0.0933+0.0518)\n",
    "\n",
    "\n",
    "    S = [Araw[0]]\n",
    "    for i in range(1,8):\n",
    "        sMean = fmean(S[-1])+1\n",
    "        sStd  = fstd(S[-1])\n",
    "        lmean = np.log(((sMean)**2)/np.sqrt(sStd**2+(sMean)**2))\n",
    "        lsig = np.sqrt(np.log((sStd/(sMean))**2 + 1))\n",
    "        yi = np.random.lognormal(lmean,lsig)\n",
    "        S.append(S[-1]+yi-1)\n",
    "    return np.array(S)\n",
    "S_MC = []\n",
    "for k in range(1000):\n",
    "    S_MC.append(ContLN())\n",
    "S_MC = np.array(S_MC)\n",
    "X1 = [] \n",
    "X2 = []\n",
    "for i,s in enumerate(S_MC[:,-1,:]):\n",
    "    x = np.histogram(s,bins=15,density=True,range=(np.nanmin(S_MC), np.nanmax(Araw)))\n",
    "    X1.append(x[0]/(sum(x[0])*(x[1][1]-x[1][0])))\n",
    "    X2.append((x[1][:-1]+x[1][1:])/2)\n",
    "X1 = np.array(X1)\n",
    "X2 = np.array(X2)\n",
    "S1 = [] \n",
    "S2 = []\n",
    "for a in Araw:\n",
    "    x = np.histogram(a,bins=15,density=True,range=(np.nanmin(Araw), np.nanmax(Araw)))\n",
    "    S1.append(x[0]/(sum(x[0])*(x[1][1]-x[1][0])))\n",
    "    S2.append((x[1][:-1]+x[1][1:])/2)\n",
    "S1 = np.array(S1)\n",
    "S2 = np.array(S2)\n",
    "plt.fill_between(X2[0], X1.mean(axis=0)-X1.std(axis=0), X1.mean(axis=0)+X1.std(axis=0),\n",
    "                 color='b',alpha=0.25)\n",
    "plt.plot(S2[0], S1.mean(axis=0), 'r-',lw=3,label='Exp. data')\n",
    "\n",
    "plt.fill_between(S2[0], S1.mean(axis=0)-S1.std(axis=0), S1.mean(axis=0)+S1.std(axis=0),\n",
    "                 color='r',alpha=0.25)\n",
    "\n",
    "for i,s in enumerate(S_MC[0,1:,:]):\n",
    "    if(i==0):\n",
    "        sns.kdeplot(s,c='k',alpha=0.5,\n",
    "                label='E.g. evolution')\n",
    "    else:\n",
    "        sns.kdeplot(s,c='k',alpha=0.5)\n",
    "plt.plot(X2[0], X1.mean(axis=0), 'b-',lw=3,label='Model pred.')\n",
    "leg = plt.legend(fontsize=24)\n",
    "leg.get_frame().set_linewidth(0.0)\n",
    "plt.yticks([])\n",
    "plt.xlim([0,1.8])\n",
    "plt.ylabel('')\n",
    "ax = plt.gca()\n",
    "ax.spines[\"right\"].set_visible(False)\n",
    "ax.spines[\"top\"].set_visible(False)\n",
    "plt.show()"
   ]
  },
  {
   "cell_type": "code",
   "execution_count": null,
   "id": "a3d0b2bc",
   "metadata": {
    "ExecuteTime": {
     "end_time": "2023-04-24T14:44:12.495926Z",
     "start_time": "2023-04-24T14:44:12.428541Z"
    }
   },
   "outputs": [],
   "source": [
    "plt.plot(np.mean(S_MC.mean(axis=-1),axis=0))\n",
    "plt.errorbar(x = np.arange(8),y = np.mean(S_MC.mean(axis=-1),axis=0), \n",
    "             yerr=sp.stats.sem(S_MC[0],axis=1) ,lw=4,c='b')\n",
    "plt.ylim([0.4,0.6])\n",
    "plt.yticks(fontsize=48)\n",
    "plt.xticks(fontsize=48)\n",
    "plt.show()"
   ]
  },
  {
   "cell_type": "markdown",
   "id": "72b3602a",
   "metadata": {},
   "source": [
    "### d"
   ]
  },
  {
   "cell_type": "code",
   "execution_count": null,
   "id": "eb140f03",
   "metadata": {
    "ExecuteTime": {
     "end_time": "2023-04-24T14:44:12.802047Z",
     "start_time": "2023-04-24T14:44:12.497114Z"
    }
   },
   "outputs": [],
   "source": [
    "A1 = np.roll(S_MC,-1,axis=-2)[:,:-2,:]-S_MC[:,:-2,:]\n",
    "A2 = np.roll(S_MC,-2,axis=-2)[:,:-2,:]-np.roll(S_MC,-1,axis=-2)[:,:-2,:]\n",
    "A1 = np.swapaxes(A1,-2,-1)\n",
    "A2 = np.swapaxes(A2,-2,-1)\n",
    "Corr = []\n",
    "for a1,a2 in zip(A1,A2):\n",
    "    for i in range(6):\n",
    "        Corr.append(np.corrcoef(a1[:,i],a2[:,i])[1,0])\n",
    "\n",
    "a1 = A1[0,np.logical_and(A1[0,:,0]!=0,A2[0,:,0]!=0),0]\n",
    "a2 = A2[0,np.logical_and(A1[0,:,0]!=0,A2[0,:,0]!=0),0]\n",
    "plt.scatter(A1[0,np.logical_and(A1[0,:,0]!=0,A2[0,:,0]!=0),0],\n",
    "            A2[0,np.logical_and(A1[0,:,0]!=0,A2[0,:,0]!=0),0],c='b')\n",
    "slope, intercept, r_value, p_value, std_err = stats.linregress(a1,a2)\n",
    "amin = -0.3\n",
    "amax = 0.26\n",
    "plt.plot(np.arange(amin,amax,0.01),np.arange(amin,amax,0.01)*slope+intercept,'k',lw=3)\n",
    "\n",
    "#x = np.corrcoef(A1,A2)\n",
    "plt.text(x=-0.1,y=0.3,s=\"Avg. Correlation: {:0.3}\".format(np.mean(Corr)),fontsize=24)\n",
    "ax = plt.gca()\n",
    "ax.spines[\"right\"].set_visible(False)\n",
    "ax.spines[\"top\"].set_visible(False)\n",
    "plt.show()"
   ]
  },
  {
   "cell_type": "markdown",
   "id": "69f8e0a3",
   "metadata": {},
   "source": [
    "### e"
   ]
  },
  {
   "cell_type": "code",
   "execution_count": null,
   "id": "668c4a2a",
   "metadata": {
    "ExecuteTime": {
     "end_time": "2023-04-24T14:44:14.397346Z",
     "start_time": "2023-04-24T14:44:12.803162Z"
    }
   },
   "outputs": [],
   "source": [
    "plt.subplots\n",
    "lowermean = []\n",
    "lowerstd  = []\n",
    "uppermean = []\n",
    "upperstd  = []\n",
    "semMean = []\n",
    "semSTD  = []\n",
    "for Cutoff in np.arange(0.2,1.0,0.15):\n",
    "    col ='k'\n",
    "    A = Araw\n",
    "    Del1 = []\n",
    "    for i in range(7):\n",
    "        mask = np.logical_and(A[i]>Cutoff,A[i]<Cutoff+0.15)\n",
    "        Del1.append(A[i+1,mask]-A[i,mask])\n",
    "    DelF = np.hstack(Del1).flatten()\n",
    "    DelF = np.hstack(Del1).flatten()\n",
    "    mu, std = stats.norm.fit(DelF)\n",
    "    semMean.append(stats.bootstrap((DelF,), np.mean, confidence_level=0.95,\n",
    "                         random_state=1, method='percentile').standard_error)\n",
    "    semSTD.append(stats.bootstrap((DelF,), np.std, confidence_level=0.95,\n",
    "                     random_state=1, method='percentile').standard_error)\n",
    "    lowermean.append(mu)\n",
    "    lowerstd.append(std)\n",
    "ml = stats.linregress(np.arange(0.2,1.0,0.15),lowermean)\n",
    "sl = stats.linregress(np.arange(0.2,1.0,0.15),lowerstd)\n",
    "plt.errorbar(np.arange(0.2,1.0,0.15),lowermean,semMean,capsize=5,ls='None',ms=15,fmt='.',color='r')\n",
    "\n",
    "plt.errorbar(np.arange(0.2,1.0,0.15),lowerstd,semSTD,capsize=5,ls='None',ms=7,fmt='s',color='r')\n",
    "\n",
    "print(\"Slope of mean: {:.3} and intercept: {:.3}\".format(ml.slope,ml.intercept))\n",
    "print(\"Slope of std: {:.3} and intercept: {:.3}\".format(sl.slope,sl.intercept))\n",
    "plt.text(x=0.5,y=0.04,s=\"Fit of std. of changes\",rotation=13,fontsize=24)\n",
    "plt.text(x=0.55,y=-0.08,s=\"Fit of mean changes\",rotation=-18,fontsize=24)\n",
    "\n",
    "plt.plot(np.arange(0.2,1.0,0.15),np.arange(0.2,1.0,0.15)*ml.slope+1.2*ml.intercept,ls='dotted',c=blue+[0.5,0.5,0],lw=3,label='Alt. fit Model')\n",
    "plt.plot(np.arange(0.2,1.0,0.15),np.arange(0.2,1.0,0.15)*sl.slope,ls='dotted',c=blue*0.5,lw=3) \n",
    "ax = plt.gca()\n",
    "ax.spines[\"right\"].set_visible(False)\n",
    "ax.spines[\"top\"].set_visible(False)\n",
    "plt.xticks(fontsize=24)\n",
    "plt.yticks(fontsize=24)\n",
    "plt.show()\n"
   ]
  },
  {
   "cell_type": "markdown",
   "id": "eb997a54",
   "metadata": {},
   "source": [
    "### f"
   ]
  },
  {
   "cell_type": "code",
   "execution_count": null,
   "id": "d223c8a3",
   "metadata": {
    "ExecuteTime": {
     "end_time": "2023-04-24T14:44:15.277476Z",
     "start_time": "2023-04-24T14:44:14.399696Z"
    }
   },
   "outputs": [],
   "source": [
    "def ContLN2():\n",
    "    fmean = sp.interpolate.interp1d(np.arange(-5.0,5.0,0.15),np.arange(-5.0,5.0,0.15)*ml.slope+1.2*ml.intercept)\n",
    "    fstd = sp.interpolate.interp1d(np.arange(-5.0,5.0,0.15),np.arange(-5.0,5.0,0.15)*sl.slope)#e+0.4*sl.intercept)\n",
    "    fstd2 = sp.interpolate.interp1d(np.arange(-5.0,5.0,0.15),np.arange(-5.0,5.0,0.15)*0.0933+0.0518)\n",
    "\n",
    "\n",
    "\n",
    "    S = [Araw[0]]\n",
    "    for i in range(1,8):\n",
    "        sMean = fmean(S[-1]) + S[-1]\n",
    "        sStd  = fstd(S[-1])\n",
    "        lmean = np.log((sMean**2)/np.sqrt(sStd**2+sMean**2))\n",
    "        lsig = np.sqrt(np.log((sStd/sMean)**2 + 1))\n",
    "        yi = np.random.lognormal(lmean,lsig)\n",
    "        S.append(yi+S[i-1]-S[-1])\n",
    "    return np.array(S)\n",
    "\n",
    "S_MC = []\n",
    "for k in range(1000):\n",
    "    S_MC.append(ContLN2())\n",
    "S_MC = np.array(S_MC)\n",
    "X1 = [] \n",
    "X2 = []\n",
    "for i,s in enumerate(S_MC[:,-1,:]):\n",
    "    x = np.histogram(s,bins=15,density=True,range=(np.nanmin(Araw), np.nanmax(Araw)))\n",
    "    X1.append(x[0]/(sum(x[0])*(x[1][1]-x[1][0])))\n",
    "    X2.append((x[1][:-1]+x[1][1:])/2)\n",
    "X1 = np.array(X1)\n",
    "X2 = np.array(X2)\n",
    "S1 = [] \n",
    "S2 = []\n",
    "for a in Araw:\n",
    "    x = np.histogram(a,bins=15,density=True,range=(np.nanmin(Araw), np.nanmax(Araw)))\n",
    "    S1.append(x[0]/(sum(x[0])*(x[1][1]-x[1][0])))\n",
    "    S2.append((x[1][:-1]+x[1][1:])/2)\n",
    "S1 = np.array(S1)\n",
    "S2 = np.array(S2)\n",
    "plt.fill_between(X2[0], X1.mean(axis=0)-X1.std(axis=0), X1.mean(axis=0)+X1.std(axis=0),\n",
    "                 color='b',alpha=0.25)\n",
    "plt.plot(S2[0], S1.mean(axis=0), 'r-',lw=3,label='Exp. data')\n",
    "\n",
    "plt.fill_between(S2[0], S1.mean(axis=0)-S1.std(axis=0), S1.mean(axis=0)+S1.std(axis=0),\n",
    "                 color='r',alpha=0.25)\n",
    "\n",
    "for i,s in enumerate(S_MC[0,1:,:]):\n",
    "    if(i==0):\n",
    "        sns.kdeplot(s,c='k',alpha=0.5,\n",
    "                label='E.g. evolution')\n",
    "\n",
    "    else:\n",
    "        sns.kdeplot(s,c='k',alpha=0.5)\n",
    "\n",
    "plt.plot(X2[0], X1.mean(axis=0), 'b-',lw=3,label='Model pred.')\n",
    "leg = plt.legend(fontsize=24)\n",
    "leg.get_frame().set_linewidth(0.0)\n",
    "plt.yticks([])\n",
    "plt.xlim([0.2,1.5])\n",
    "plt.ylabel('')\n",
    "ax = plt.gca()\n",
    "ax.spines[\"right\"].set_visible(False)\n",
    "ax.spines[\"top\"].set_visible(False)\n",
    "plt.show()"
   ]
  },
  {
   "cell_type": "code",
   "execution_count": null,
   "id": "b411100e",
   "metadata": {
    "ExecuteTime": {
     "end_time": "2023-04-24T14:44:15.346116Z",
     "start_time": "2023-04-24T14:44:15.278733Z"
    }
   },
   "outputs": [],
   "source": [
    "plt.plot(np.mean(S_MC.mean(axis=-1),axis=0))\n",
    "plt.errorbar(x = np.arange(8),y = np.mean(S_MC.mean(axis=-1),axis=0), \n",
    "            yerr=sp.stats.sem(S_MC[0],axis=1) ,lw=4,c='b')\n",
    "plt.ylim([0.4,0.6])\n",
    "plt.yticks(fontsize=48)\n",
    "plt.xticks(fontsize=48)\n",
    "plt.show()"
   ]
  },
  {
   "cell_type": "markdown",
   "id": "d0776ee6",
   "metadata": {},
   "source": [
    "### g"
   ]
  },
  {
   "cell_type": "code",
   "execution_count": null,
   "id": "3c59538f",
   "metadata": {
    "ExecuteTime": {
     "end_time": "2023-04-24T14:44:15.643792Z",
     "start_time": "2023-04-24T14:44:15.347206Z"
    }
   },
   "outputs": [],
   "source": [
    "A1 = np.roll(S_MC,-1,axis=-2)[:,:-2,:]-S_MC[:,:-2,:]\n",
    "A2 = np.roll(S_MC,-2,axis=-2)[:,:-2,:]-np.roll(S_MC,-1,axis=-2)[:,:-2,:]\n",
    "A1 = np.swapaxes(A1,-2,-1)\n",
    "A2 = np.swapaxes(A2,-2,-1)\n",
    "Corr = []\n",
    "for a1,a2 in zip(A1,A2):\n",
    "    for i in range(6):\n",
    "        Corr.append(np.corrcoef(a1[:,i],a2[:,i])[1,0])\n",
    "\n",
    "a1 = A1[0,np.logical_and(A1[0,:,0]!=0,A2[0,:,0]!=0),0]\n",
    "a2 = A2[0,np.logical_and(A1[0,:,0]!=0,A2[0,:,0]!=0),0]\n",
    "plt.scatter(A1[0,np.logical_and(A1[0,:,0]!=0,A2[0,:,0]!=0),0],\n",
    "            A2[0,np.logical_and(A1[0,:,0]!=0,A2[0,:,0]!=0),0],c='b')\n",
    "slope, intercept, r_value, p_value, std_err = stats.linregress(a1,a2)\n",
    "amin = -0.3\n",
    "amax = 0.26\n",
    "plt.plot(np.arange(amin,amax,0.01),np.arange(amin,amax,0.01)*slope+intercept,'k',lw=3)\n",
    "\n",
    "plt.text(x=-0.1,y=0.3,s=\"Avg. Correlation: {:0.3}\".format(np.mean(Corr)),fontsize=24)\n",
    "ax = plt.gca()\n",
    "ax.spines[\"right\"].set_visible(False)\n",
    "ax.spines[\"top\"].set_visible(False)\n",
    "plt.show()"
   ]
  },
  {
   "cell_type": "markdown",
   "id": "afe3d78b",
   "metadata": {},
   "source": [
    "### h"
   ]
  },
  {
   "cell_type": "code",
   "execution_count": null,
   "id": "5cd2848d",
   "metadata": {
    "ExecuteTime": {
     "end_time": "2023-04-24T14:44:15.649393Z",
     "start_time": "2023-04-24T14:44:15.645013Z"
    }
   },
   "outputs": [],
   "source": [
    "def ContLNOU(theta,theta2,mu):\n",
    "    fmean = sp.interpolate.interp1d(np.arange(-10.0,10.0,0.15),np.arange(-10.0,10.0,0.15)*ml.slope+ml.intercept)\n",
    "    fstd = sp.interpolate.interp1d(np.arange(-10.0,10.0,0.15),np.arange(-10.0,10.0,0.15)*sl.slope+0.9*sl.intercept)\n",
    "\n",
    "    S = [Araw[0]]\n",
    "    for i in range(1,8):\n",
    "        sMean = fmean(S[-1])+S[-1]\n",
    "        sStd  = fstd(S[-1])\n",
    "        lmean = np.log((sMean**2)/np.sqrt(sStd**2+sMean**2))\n",
    "        lsig = np.sqrt(np.log((sStd/sMean)**2 + 1))\n",
    "        yi = sp.stats.lognorm.rvs(lsig, loc=-S[-1], scale=np.exp(lmean), size=830)\n",
    "        nS = S[-1]+(yi)-theta2*(S[-1]-mu)\n",
    "        if(i>1):\n",
    "            nS += theta*(S[-2]-S[-1]) \n",
    "        S.append(nS)\n",
    "    return np.array(S)"
   ]
  },
  {
   "cell_type": "code",
   "execution_count": null,
   "id": "7d4873df",
   "metadata": {
    "ExecuteTime": {
     "end_time": "2023-04-24T14:44:16.574418Z",
     "start_time": "2023-04-24T14:44:15.650286Z"
    }
   },
   "outputs": [],
   "source": [
    "S_MC = []\n",
    "for k in range(1000):\n",
    "    S_MC.append(ContLNOU(0.2,0.2,0.53))\n",
    "S_MC = np.array(S_MC)\n",
    "X1 = [] \n",
    "X2 = []\n",
    "for i,s in enumerate(S_MC[:,-1,:]):\n",
    "    x = np.histogram(s,bins=15,density=True,range=(np.nanmin(Araw), np.nanmax(Araw)))\n",
    "    X1.append(x[0]/(sum(x[0])*(x[1][1]-x[1][0])))\n",
    "    X2.append((x[1][:-1]+x[1][1:])/2)\n",
    "X1 = np.array(X1)\n",
    "X2 = np.array(X2)\n",
    "S1 = [] \n",
    "S2 = []\n",
    "for a in Araw:\n",
    "    x = np.histogram(a,bins=15,density=True,range=(np.nanmin(Araw), np.nanmax(Araw)))\n",
    "    S1.append(x[0]/(sum(x[0])*(x[1][1]-x[1][0])))\n",
    "    S2.append((x[1][:-1]+x[1][1:])/2)\n",
    "S1 = np.array(S1)\n",
    "S2 = np.array(S2)\n",
    "plt.fill_between(X2[0], X1.mean(axis=0)-X1.std(axis=0), X1.mean(axis=0)+X1.std(axis=0),\n",
    "                 color='b',alpha=0.25)\n",
    "plt.plot(S2[0], S1.mean(axis=0), 'r-',lw=3,label='Exp. data')\n",
    "\n",
    "plt.fill_between(S2[0], S1.mean(axis=0)-S1.std(axis=0), S1.mean(axis=0)+S1.std(axis=0),\n",
    "                 color='r',alpha=0.25)\n",
    "\n",
    "for i,s in enumerate(S_MC[0,1:,:]):\n",
    "    if(i==0):\n",
    "        sns.kdeplot(s,c='k',alpha=0.5,\n",
    "                label='E.g. evolution')\n",
    "    else:\n",
    "        sns.kdeplot(s,c='k',alpha=0.5)\n",
    "plt.plot(X2[0], X1.mean(axis=0), 'b-',lw=3,label='Model pred.')\n",
    "leg = plt.legend(fontsize=24)\n",
    "leg.get_frame().set_linewidth(0.0)\n",
    "plt.yticks([])\n",
    "plt.xlim([0.2,1.5])\n",
    "plt.ylabel('')\n",
    "ax = plt.gca()\n",
    "ax.spines[\"right\"].set_visible(False)\n",
    "ax.spines[\"top\"].set_visible(False)\n",
    "plt.show()"
   ]
  },
  {
   "cell_type": "code",
   "execution_count": null,
   "id": "e46655a1",
   "metadata": {
    "ExecuteTime": {
     "end_time": "2023-04-24T14:44:16.641388Z",
     "start_time": "2023-04-24T14:44:16.575566Z"
    }
   },
   "outputs": [],
   "source": [
    "plt.errorbar(x = np.arange(8),y = np.mean(S_MC.mean(axis=-1),axis=0), \n",
    "             yerr=sp.stats.sem(S_MC[0],axis=1) ,lw=4,c='b')\n",
    "plt.ylim([0.4,0.6])\n",
    "plt.yticks(fontsize=48)\n",
    "plt.xticks(fontsize=48)\n",
    "plt.show()"
   ]
  },
  {
   "cell_type": "markdown",
   "id": "1e7b2ae3",
   "metadata": {},
   "source": [
    "### i"
   ]
  },
  {
   "cell_type": "code",
   "execution_count": null,
   "id": "3567a91a",
   "metadata": {
    "ExecuteTime": {
     "end_time": "2023-04-24T14:44:16.902160Z",
     "start_time": "2023-04-24T14:44:16.643404Z"
    }
   },
   "outputs": [],
   "source": [
    "muMC = []\n",
    "muSTD = []\n",
    "for s in S_MC:\n",
    "    Del = []\n",
    "    for i in range(7):\n",
    "        Del.append(A[i+1]-A[i])\n",
    "    DelF = np.vstack(Del).flatten()\n",
    "    mu, std = stats.norm.fit(DelF)\n",
    "    muMC.append(mu)\n",
    "    muSTD.append(std)\n",
    "col ='k'\n",
    "A = S_MC[0]\n",
    "Del = []\n",
    "for i in range(7):\n",
    "    Del.append(A[i+1]-A[i])\n",
    "DelF = np.vstack(Del).flatten()\n",
    "mu, std = stats.norm.fit(DelF)\n",
    "x = np.linspace(DelF.min(),DelF.max(),100)\n",
    "plt.hist(DelF,bins=100,width=0.013,density=True,color='b')\n",
    "p = stats.norm.pdf(x, mu, std)\n",
    "plt.plot(x, p, 'k', linewidth=4)\n",
    "plt.xlim([-0.5,0.5])\n",
    "plt.ylim([0,7])\n",
    "plt.text(x=-0.1,y=6.5,s=\"Avg. Mean: {:0.3}\".format(np.mean(muMC)),fontsize=24)\n",
    "plt.text(x=0.01,y=5.8,s=\"Avg. STD: {:0.3}\".format(np.mean(muSTD)),fontsize=24)\n",
    "plt.yticks([])\n",
    "m = stats.lognorm.fit(DelF)\n",
    "x = np.linspace(DelF.min(),DelF.max())\n",
    "p = stats.lognorm.pdf(x, m[0], loc=m[1],scale=m[2])\n",
    "ax = plt.gca()\n",
    "ax.spines[\"right\"].set_visible(False)\n",
    "ax.spines[\"top\"].set_visible(False)\n",
    "plt.show()"
   ]
  },
  {
   "cell_type": "markdown",
   "id": "413a4e0a",
   "metadata": {},
   "source": [
    "### j"
   ]
  },
  {
   "cell_type": "code",
   "execution_count": null,
   "id": "fe48def4",
   "metadata": {
    "ExecuteTime": {
     "end_time": "2023-04-24T14:44:17.187942Z",
     "start_time": "2023-04-24T14:44:16.903362Z"
    }
   },
   "outputs": [],
   "source": [
    "A1 = np.roll(S_MC,-1,axis=-2)[:,:-2,:]-S_MC[:,:-2,:]\n",
    "A2 = np.roll(S_MC,-2,axis=-2)[:,:-2,:]-np.roll(S_MC,-1,axis=-2)[:,:-2,:]\n",
    "A1 = np.swapaxes(A1,-2,-1)\n",
    "A2 = np.swapaxes(A2,-2,-1)\n",
    "Corr = []\n",
    "for a1,a2 in zip(A1,A2):\n",
    "    for i in range(6):\n",
    "        Corr.append(np.corrcoef(a1[:,i],a2[:,i])[1,0])\n",
    "\n",
    "a1 = A1[0,np.logical_and(A1[0,:,0]!=0,A2[0,:,0]!=0),0]\n",
    "a2 = A2[0,np.logical_and(A1[0,:,0]!=0,A2[0,:,0]!=0),0]\n",
    "plt.scatter(A1[0,np.logical_and(A1[0,:,0]!=0,A2[0,:,0]!=0),0],\n",
    "            A2[0,np.logical_and(A1[0,:,0]!=0,A2[0,:,0]!=0),0],c='b')\n",
    "slope, intercept, r_value, p_value, std_err = stats.linregress(a1,a2)\n",
    "amin = -0.3\n",
    "amax = 0.26\n",
    "plt.plot(np.arange(amin,amax,0.01),np.arange(amin,amax,0.01)*slope+intercept,'k',lw=3)\n",
    "\n",
    "plt.text(x=-0.4,y=0.42,s=\"Avg. Correlation: {:0.3}\".format(np.mean(Corr)),fontsize=24)\n",
    "plt.xlim([-0.4,0.4])\n",
    "plt.ylim([-0.4,0.4])\n",
    "ax = plt.gca()\n",
    "ax.spines[\"right\"].set_visible(False)\n",
    "ax.spines[\"top\"].set_visible(False)\n",
    "plt.show()"
   ]
  },
  {
   "cell_type": "markdown",
   "id": "50775788",
   "metadata": {},
   "source": [
    "## Figure 3"
   ]
  },
  {
   "cell_type": "markdown",
   "id": "f20ddab1",
   "metadata": {},
   "source": [
    "### a"
   ]
  },
  {
   "cell_type": "code",
   "execution_count": null,
   "id": "7fa33af8",
   "metadata": {
    "ExecuteTime": {
     "end_time": "2023-04-24T14:44:17.321891Z",
     "start_time": "2023-04-24T14:44:17.189097Z"
    }
   },
   "outputs": [],
   "source": [
    "Dir = BaseDir+'CA1_15Spine/Control/'\n",
    "D15,A15,(A1raw,_) = ReadFiles(Dir)\n",
    "A1raw15 = np.vstack(A1raw)\n",
    "Dir = BaseDir+'CA1_7Spine/Control/'\n",
    "D7,A7,(A1raw,_) = ReadFiles(Dir)\n",
    "A1raw7 = np.vstack(A1raw)\n",
    "Dir = BaseDir+'CA1_3Spine/Control/'\n",
    "D3,A3,(A1raw,_) = ReadFiles(Dir)\n",
    "A1raw3 = np.vstack(A1raw)\n",
    "Dir = BaseDir+'CA1_1Spine/Control/'\n",
    "D1,A1,(A1raw,_) = ReadFiles(Dir)\n",
    "A1raw1 = np.vstack(A1raw)\n",
    "Araw = np.vstack([A1raw1,A1raw3,A1raw7,A1raw15]).T\n",
    "D    = np.hstack([D1,D3,D7,D15])\n",
    "D    = D[~np.isnan(Araw.sum(axis=0))]\n",
    "Araw = Araw[:,~np.isnan(Araw.sum(axis=0))]\n",
    "D15    = D15[~np.isnan(A1raw15.sum(axis=1))]\n",
    "A1raw15=A1raw15[~np.isnan(A1raw15.sum(axis=1)),:]"
   ]
  },
  {
   "cell_type": "code",
   "execution_count": null,
   "id": "87b3eb5c",
   "metadata": {
    "ExecuteTime": {
     "end_time": "2023-04-24T14:44:17.705700Z",
     "start_time": "2023-04-24T14:44:17.322803Z"
    }
   },
   "outputs": [],
   "source": [
    "A=A1raw15.T[:,D15==0]\n",
    "means = []\n",
    "sem   = []\n",
    "var   = []\n",
    "var_err = []\n",
    "X = []\n",
    "for i,a in enumerate(A):\n",
    "    x = np.histogram(a,bins=15,density=True,range=(np.nanmin(A), np.nanmax(A)))\n",
    "    means.append(a.mean())\n",
    "    var.append(a.var())\n",
    "    var_err.append(stats.bootstrap((a,), np.var, confidence_level=0.95,\n",
    "                         random_state=1, method='percentile').standard_error)\n",
    "    sem.append(stats.sem(a))\n",
    "    X.append(x[0]/(sum(x[0])*(x[1][1]-x[1][0])))\n",
    "Y  = (x[1][:-1]+x[1][1:])/2\n",
    "for i,x in enumerate(X):\n",
    "    if(i<3):\n",
    "        plt.plot(Y,x,'r',alpha=0.25)\n",
    "    else:\n",
    "        plt.plot(Y,x,'b',alpha=0.25)\n",
    "\n",
    "X1 = X[:3]\n",
    "X2 = X[3:]\n",
    "    \n",
    "plt.plot(Y,np.mean(X1,axis=0),'r',label='pre-stim.',lw=3)\n",
    "plt.plot(Y,np.mean(X2,axis=0),'b',label='post-stim.',lw=3)\n",
    "plt.fill_between(Y,np.mean(X1,axis=0)-np.std(X1,axis=0),\n",
    "                 np.mean(X1,axis=0)+np.std(X1,axis=0),color='r',alpha=0.25)\n",
    "plt.fill_between(Y,np.mean(X2,axis=0)-np.std(X2,axis=0),\n",
    "                 np.mean(X2,axis=0)+np.std(X2,axis=0),color='b',alpha=0.25)\n",
    "leg = plt.legend(fontsize=24)\n",
    "leg.get_frame().set_linewidth(0.0)\n",
    "ax = plt.gca()\n",
    "ax.spines[\"right\"].set_visible(False)\n",
    "ax.spines[\"top\"].set_visible(False)\n",
    "ax.set_yticks([])\n",
    "plt.show()\n",
    "plt.errorbar(x = np.arange(3,8),y = means[3:], yerr=sem[3:],lw=4,c='b')\n",
    "plt.errorbar(x = np.arange(3),y = means[:3], yerr=sem[:3],lw=4,c='r')\n",
    "plt.plot([2,3],[means[2],means[3]],'b',lw=4)\n",
    "plt.gca().yaxis.tick_right()\n",
    "ax = plt.gca()\n",
    "ax.spines[\"left\"].set_visible(False)\n",
    "ax.spines[\"top\"].set_visible(False)\n",
    "plt.xticks(fontsize=48)\n",
    "plt.yticks([0.46,0.50,0.54],fontsize=48)\n",
    "plt.show()\n",
    "P1 = [x/sum(x) for x in X1]\n",
    "P2 = [x/sum(x) for x in X2]\n",
    "boxprops = dict(linewidth=3, color='b')\n",
    "whiskerprops = dict(linewidth=3, color='b')\n",
    "capprops = dict(linewidth=3, color='b')\n",
    "medianprops = dict( linewidth=3, color='r')\n",
    "c='r'\n",
    "exptEnt = [sum(p[p>0]*np.log2(1/p[p>0])) for p in P1]\n",
    "plt.boxplot([sum(p[p>0]*np.log2(1/p[p>0])) for p in P1],positions=[1],\n",
    "            bootstrap=1000,boxprops=dict(linewidth=3, color=c),\n",
    "            capprops=dict(linewidth=3,color=c),\n",
    "            whiskerprops=dict(linewidth=3,color=c),\n",
    "            flierprops=dict(linewidth=3,color=c, markeredgecolor=c),\n",
    "            medianprops=dict(linewidth=3,color='k'),labels=['pre-stim'])\n",
    "c='b'\n",
    "plt.boxplot([sum(p[p>0]*np.log2(1/p[p>0])) for p in P2],positions=[2],\n",
    "            bootstrap=1000,boxprops=dict(linewidth=3, color=c),\n",
    "            capprops=dict(linewidth=3,color=c),\n",
    "            whiskerprops=dict(linewidth=3,color=c),\n",
    "            flierprops=dict(linewidth=3,color=c, markeredgecolor=c),\n",
    "            medianprops=dict(linewidth=3,color='k'),labels=['post-stim'],showfliers=False)\n",
    "h = barplot_annotate_brackets(0,1,stats.ttest_ind([sum(p[p>0]*np.log2(1/p[p>0])) for p in P1]\n",
    "                                        ,[sum(p[p>0]*np.log2(1/p[p>0])) for p in P2]).pvalue,\n",
    "                               [1,2], [2.75,2.75],fs=64)\n",
    "ax = plt.gca()\n",
    "plt.gca().yaxis.tick_right()\n",
    "plt.xticks(fontsize=64,rotation=-20)\n",
    "plt.yticks([2.4,2.6,2.8],fontsize=48)\n",
    "ax.spines[\"left\"].set_visible(False)\n",
    "ax.spines[\"top\"].set_visible(False)"
   ]
  },
  {
   "cell_type": "markdown",
   "id": "6507b98d",
   "metadata": {},
   "source": [
    "### b"
   ]
  },
  {
   "cell_type": "code",
   "execution_count": null,
   "id": "e439fd6f",
   "metadata": {
    "ExecuteTime": {
     "end_time": "2023-04-24T14:44:18.143487Z",
     "start_time": "2023-04-24T14:44:17.706808Z"
    },
    "scrolled": false
   },
   "outputs": [],
   "source": [
    "A=A1raw15.T[:,np.logical_and(D15!=0,np.abs(D15)<4)] \n",
    "means = []\n",
    "sem   = []\n",
    "var   = []\n",
    "var_err = []\n",
    "X = []\n",
    "for i,a in enumerate(A):\n",
    "    x = np.histogram(a,bins=15,density=True,range=(np.nanmin(A), np.nanmax(A)))\n",
    "    means.append(a.mean())\n",
    "    var.append(a.var())\n",
    "    var_err.append(stats.bootstrap((a,), np.var, confidence_level=0.95,\n",
    "                         random_state=1, method='percentile').standard_error)\n",
    "    sem.append(stats.sem(a))\n",
    "    X.append(x[0]/(sum(x[0])*(x[1][1]-x[1][0])))\n",
    "Y  = (x[1][:-1]+x[1][1:])/2\n",
    "for i,x in enumerate(X):\n",
    "    if(i<3):\n",
    "        plt.plot(Y,x,'r',alpha=0.25)\n",
    "    else:\n",
    "        plt.plot(Y,x,'b',alpha=0.25)\n",
    "\n",
    "X1 = X[:3]\n",
    "X2 = X[3:]\n",
    "    \n",
    "plt.plot(Y,np.mean(X1,axis=0),'r',label='pre-stim.',lw=3)\n",
    "plt.plot(Y,np.mean(X2,axis=0),'b',label='post-stim.',lw=3)\n",
    "plt.fill_between(Y,np.mean(X1,axis=0)-np.std(X1,axis=0),\n",
    "                 np.mean(X1,axis=0)+np.std(X1,axis=0),color='r',alpha=0.25)\n",
    "plt.fill_between(Y,np.mean(X2,axis=0)-np.std(X2,axis=0),\n",
    "                 np.mean(X2,axis=0)+np.std(X2,axis=0),color='b',alpha=0.25)\n",
    "leg = plt.legend(fontsize=24)\n",
    "leg.get_frame().set_linewidth(0.0)\n",
    "ax = plt.gca()\n",
    "ax.spines[\"right\"].set_visible(False)\n",
    "ax.spines[\"top\"].set_visible(False)\n",
    "ax.set_yticks([])\n",
    "plt.show()\n",
    "plt.errorbar(x = np.arange(3,8),y = means[3:], yerr=sem[3:],lw=4,c='b')\n",
    "plt.errorbar(x = np.arange(3),y = means[:3], yerr=sem[:3],lw=4,c='r')\n",
    "plt.plot([2,3],[means[2],means[3]],'b',lw=4)\n",
    "plt.gca().yaxis.tick_right()\n",
    "ax = plt.gca()\n",
    "ax.spines[\"left\"].set_visible(False)\n",
    "ax.spines[\"top\"].set_visible(False)\n",
    "plt.xticks(fontsize=48)\n",
    "plt.yticks([0.46,0.48,0.44],fontsize=48)\n",
    "plt.show()\n",
    "P1 = [x/sum(x) for x in X1]\n",
    "P2 = [x/sum(x) for x in X2]\n",
    "boxprops = dict(linewidth=3, color='b')\n",
    "whiskerprops = dict(linewidth=3, color='b')\n",
    "capprops = dict(linewidth=3, color='b')\n",
    "medianprops = dict( linewidth=3, color='r')\n",
    "c='r'\n",
    "plt.boxplot([sum(p[p>0]*np.log2(1/p[p>0])) for p in P1],positions=[1],\n",
    "            bootstrap=1000,boxprops=dict(linewidth=3, color=c),\n",
    "            capprops=dict(linewidth=3,color=c),\n",
    "            whiskerprops=dict(linewidth=3,color=c),\n",
    "            flierprops=dict(linewidth=3,color=c, markeredgecolor=c),\n",
    "            medianprops=dict(linewidth=3,color='k'),labels=['pre-stim'])\n",
    "c='b'\n",
    "plt.boxplot([sum(p[p>0]*np.log2(1/p[p>0])) for p in P2],positions=[2],\n",
    "            bootstrap=1000,boxprops=dict(linewidth=3, color=c),\n",
    "            capprops=dict(linewidth=3,color=c),\n",
    "            whiskerprops=dict(linewidth=3,color=c),\n",
    "            flierprops=dict(linewidth=3,color=c, markeredgecolor=c),\n",
    "            medianprops=dict(linewidth=3,color='k'),labels=['post-stim'],showfliers=False)\n",
    "h = barplot_annotate_brackets(0,1,stats.ttest_ind([sum(p[p>0]*np.log2(1/p[p>0])) for p in P1]\n",
    "                                                  ,[sum(p[p>0]*np.log2(1/p[p>0])) for p in P2]).pvalue,\n",
    "                               [1,2], [3.15,3.15],fs=64)\n",
    "ax = plt.gca()\n",
    "plt.gca().yaxis.tick_right()\n",
    "plt.xticks(fontsize=64,rotation=-20)\n",
    "plt.yticks(fontsize=48)\n",
    "ax.spines[\"left\"].set_visible(False)\n",
    "ax.spines[\"top\"].set_visible(False)"
   ]
  },
  {
   "cell_type": "markdown",
   "id": "f20ac6d1",
   "metadata": {},
   "source": [
    "### c"
   ]
  },
  {
   "cell_type": "code",
   "execution_count": null,
   "id": "b1c1752c",
   "metadata": {
    "ExecuteTime": {
     "end_time": "2023-04-24T14:44:18.447230Z",
     "start_time": "2023-04-24T14:44:18.144596Z"
    }
   },
   "outputs": [],
   "source": [
    "col ='k'\n",
    "A = A1raw15.T[:,D15==0]\n",
    "Del = []\n",
    "for i in range(7):\n",
    "    Del.append(A[i+1]-A[i])\n",
    "Del = np.array(Del)\n",
    "fig = plt.figure(figsize=(24,8))\n",
    "ax = fig.add_subplot(111, projection='3d')\n",
    "nbins = 50\n",
    "red = np.array([1,0,0])\n",
    "blue = np.array([0,0,1])\n",
    "muvec = []\n",
    "sem = []\n",
    "for i,(z,d) in enumerate(zip([120,100,80,60, 40, 20, 0],Del)):\n",
    "    hist, bins = np.histogram(d, bins=nbins,density=True)\n",
    "    xs = (bins[:-1] + bins[1:])/2\n",
    "    if(i<2):\n",
    "        col=red\n",
    "    elif(i==2):\n",
    "        col='teal'\n",
    "    else:\n",
    "        col=blue\n",
    "    ax.bar(xs, hist, zs=z, zdir='x', \n",
    "           color=col,alpha=0.6,width=(xs[-1]-xs[0])/50)\n",
    "    mu, std = stats.norm.fit(d)\n",
    "    x = np.linspace(d.min(),d.max())\n",
    "    p = stats.norm.pdf(x, mu, std)\n",
    "    ax.plot(x,p,zs=z, zdir='x', linewidth=2,c='k')\n",
    "    x = [z]*5\n",
    "    y = [mu]*5\n",
    "    z2 = np.linspace(0,p.max(),5)\n",
    "    ax.plot(x,y,z2,'k-',linewidth=2)\n",
    "    ax.yaxis.labelpad = 10\n",
    "    muvec.append(mu)\n",
    "    sem.append(stats.sem(d))\n",
    "ax.view_init(elev=30., azim=-50)\n",
    "\n",
    "ax.set_xticks([])\n",
    "ax.set_zticks([])\n",
    "ax.set_yticks([-0.5,0.,0.5])\n",
    "\n",
    "ax.get_proj = lambda: np.dot(Axes3D.get_proj(ax), np.diag([1.8, 1, 1, 1.4]))\n",
    "plt.show()\n",
    "fig,ax = plt.subplots(figsize=(6,2))\n",
    "plt.errorbar(x = np.arange(3,7),y = muvec[3:], yerr=sem[3:],lw=4,c='b')\n",
    "plt.errorbar(x = np.arange(2),y = muvec[:2], yerr=sem[:2],lw=4,c='r')\n",
    "plt.errorbar(x = [2],y = muvec[2], yerr=sem[2],lw=4,c='teal')\n",
    "plt.plot([1,2,3],[muvec[1],muvec[2],muvec[3]],'teal',lw=4)\n",
    "plt.plot([0,1],[0.09,0.09],'k-')\n",
    "plt.plot([3,6],[0.09,0.09],'k-')\n",
    "barplot_annotate_brackets(0, 1, \n",
    "                          stats.f_oneway(Del[0],Del[1],Del[3],Del[4],Del[5],Del[6]).pvalue, \n",
    "                          [0.5,4.5],[0.1]*2,fs=36)\n",
    "barplot_annotate_brackets(0, 1, stats.f_oneway(Del[0],Del[1],Del[2],Del[3],Del[4],Del[5],Del[6]).pvalue, \n",
    "                          [2,2],[0.03]*2,fs=36)\n",
    "ax.set_ylim(ax.get_ylim()[0],ax.get_ylim()[1]+0.02)\n",
    "ax.spines[\"right\"].set_visible(False)\n",
    "ax.spines[\"top\"].set_visible(False)"
   ]
  },
  {
   "cell_type": "markdown",
   "id": "7ee2b1d0",
   "metadata": {},
   "source": [
    "### d"
   ]
  },
  {
   "cell_type": "code",
   "execution_count": null,
   "id": "7ae17be7",
   "metadata": {
    "ExecuteTime": {
     "end_time": "2023-04-24T14:44:18.656001Z",
     "start_time": "2023-04-24T14:44:18.448118Z"
    }
   },
   "outputs": [],
   "source": [
    "col ='k'\n",
    "A = A1raw15.T[:,np.logical_and(D15!=0,abs(D15)<4)]\n",
    "Del = []\n",
    "for i in range(7):\n",
    "    Del.append(A[i+1]-A[i])\n",
    "Del = np.array(Del)\n",
    "fig = plt.figure(figsize=(24,8))\n",
    "ax = fig.add_subplot(111, projection='3d')\n",
    "nbins = 25\n",
    "red = np.array([1,0,0])\n",
    "blue = np.array([0,0,1])\n",
    "muvec = []\n",
    "sem = []\n",
    "for i,(z,d) in enumerate(zip([120,100,80,60, 40, 20, 0],Del)):\n",
    "    hist, bins = np.histogram(d, bins=nbins,density=True)\n",
    "    xs = (bins[:-1] + bins[1:])/2\n",
    "    if(i<2):\n",
    "        col=red\n",
    "    elif(i==2):\n",
    "        col='teal'\n",
    "    else:\n",
    "        col=blue\n",
    "    ax.bar(xs, hist, zs=z, zdir='x', \n",
    "           color=col,alpha=0.6,width=(xs[-1]-xs[0])/nbins)\n",
    "    mu, std = stats.norm.fit(d)\n",
    "    x = np.linspace(d.min(),d.max())\n",
    "    p = stats.norm.pdf(x, mu, std)\n",
    "    ax.plot(x,p,zs=z, zdir='x', linewidth=2,c='k')\n",
    "    x = [z]*5\n",
    "    y = [mu]*5\n",
    "    z2 = np.linspace(0,p.max(),5)\n",
    "    ax.plot(x,y,z2,'k-',linewidth=2)\n",
    "    ax.yaxis.labelpad = 10\n",
    "    muvec.append(mu)\n",
    "    sem.append(stats.sem(d))\n",
    "ax.view_init(elev=30., azim=-50)\n",
    "\n",
    "ax.set_xticks([])\n",
    "ax.set_zticks([])\n",
    "ax.set_yticks([-0.5,0.,0.5])\n",
    "\n",
    "ax.get_proj = lambda: np.dot(Axes3D.get_proj(ax), np.diag([1.8, 1, 1, 1.4]))\n",
    "\n",
    "plt.show()\n",
    "fig,ax = plt.subplots(figsize=(6,2))\n",
    "plt.errorbar(x = np.arange(3,7),y = muvec[3:], yerr=sem[3:],lw=4,c='b')\n",
    "plt.errorbar(x = np.arange(2),y = muvec[:2], yerr=sem[:2],lw=4,c='r')\n",
    "plt.errorbar(x = [2],y = muvec[2], yerr=sem[2],lw=4,c='teal')\n",
    "plt.plot([1,2,3],[muvec[1],muvec[2],muvec[3]],'teal',lw=4)\n",
    "plt.plot([0,6],[0.05,0.05],'k-')\n",
    "barplot_annotate_brackets(0, 1, \n",
    "                          stats.f_oneway(Del[0],Del[1],Del[2],Del[3],Del[4],Del[5],Del[6]).pvalue, \n",
    "                          [3,3],[0.05]*2,fs=48)\n",
    "\n",
    "\n",
    "ax.set_ylim(ax.get_ylim()[0],ax.get_ylim()[1]+0.01)\n",
    "ax.spines[\"right\"].set_visible(False)\n",
    "ax.spines[\"top\"].set_visible(False)"
   ]
  },
  {
   "cell_type": "markdown",
   "id": "50c73b3d",
   "metadata": {},
   "source": [
    "### e"
   ]
  },
  {
   "cell_type": "code",
   "execution_count": null,
   "id": "1d7a32ff",
   "metadata": {
    "ExecuteTime": {
     "end_time": "2023-04-24T14:44:19.127162Z",
     "start_time": "2023-04-24T14:44:18.657087Z"
    }
   },
   "outputs": [],
   "source": [
    "Del_tot = []\n",
    "for Cutoff in np.arange(0.2,0.8,0.15):\n",
    "    col ='k'\n",
    "    A = A1raw15[D15==0,:].T\n",
    "    Del1 = []\n",
    "    for i in range(7):\n",
    "        mask = np.logical_and(A[i]>Cutoff,A[i]<Cutoff+0.15)\n",
    "        Del1.append(A[i+1,mask]-A[i,mask])\n",
    "    Del_tot.append(Del1)\n",
    "Del_tot = np.stack(Del_tot)\n",
    "Del_wo = np.delete(Del_tot,2, axis=-1)\n",
    "fig = plt.figure(figsize=(12,12))\n",
    "ax = fig.add_subplot(111, projection='3d')\n",
    "nbins = 25\n",
    "red = np.array([1,0,0])\n",
    "blue = np.array([0,0,1])\n",
    "P2 = []\n",
    "M2 = []\n",
    "for i,(z,d) in enumerate(zip([0.2,0.35,0.5,0.65],Del_wo)):\n",
    "    d = np.hstack(d)\n",
    "    M2.append(d.mean())\n",
    "    hist, bins = np.histogram(d, bins=25,density=True)\n",
    "    xs = (bins[:-1] + bins[1:])/2\n",
    "    m = stats.lognorm.fit(d)\n",
    "    ax.bar(xs, hist, zs=z, zdir='x', color=red,alpha=0.6,width=(xs[-1]-xs[0])/nbins)\n",
    "    x = np.linspace(-0.5,0.6)\n",
    "    p1 = stats.lognorm.pdf(x, m[0], loc=m[1],scale=m[2])\n",
    "    P2.append(p1)\n",
    "    ax.plot(x,p1,zs=z, zdir='x', linewidth=2,c='k')\n",
    "ax.view_init(elev=30., azim=-30)\n",
    "ax.set_ylim(-0.6,0.6)\n",
    "\n",
    "ax.set_zticks([])\n",
    "ax.yaxis.labelpad = 10\n",
    "ax.xaxis.labelpad = 10\n",
    "plt.gca().invert_xaxis()\n",
    "plt.yticks(fontsize=40)\n",
    "plt.xticks(fontsize=40)\n",
    "plt.show()\n",
    "\n",
    "fig = plt.figure(figsize=(12,12))\n",
    "ax = fig.add_subplot(111, projection='3d')\n",
    "nbins = 10\n",
    "red = np.array([1,0,0])\n",
    "blue = np.array([0,0,1])\n",
    "P = []\n",
    "M = []\n",
    "for i,(z,d) in enumerate(zip([0.2,0.35,0.5,0.65],Del_tot[:,2])):\n",
    "    d = np.hstack(d)\n",
    "    M.append(d.mean())\n",
    "    hist, bins = np.histogram(d, bins=nbins,density=True)\n",
    "    xs = (bins[:-1] + bins[1:])/2\n",
    "    m = stats.lognorm.fit(d)\n",
    "    ax.bar(xs, hist, zs=z, zdir='x', color='teal',alpha=0.6,width=(xs[-1]-xs[0])/nbins)\n",
    "    x = np.linspace(-0.5,0.6)\n",
    "    p1 = stats.lognorm.pdf(x, m[0], loc=m[1],scale=m[2])\n",
    "    P.append(p1)\n",
    "    ax.plot(x,p1,zs=z, zdir='x', linewidth=2,c='k')\n",
    "ax.view_init(elev=30., azim=-30)\n",
    "ax.set_ylim(-0.6,0.6)\n",
    "\n",
    "ax.set_zticks([])\n",
    "ax.yaxis.labelpad = 10\n",
    "ax.xaxis.labelpad = 10\n",
    "plt.gca().invert_xaxis()\n",
    "plt.yticks(fontsize=40)\n",
    "plt.xticks(fontsize=40)\n",
    "plt.show()"
   ]
  },
  {
   "cell_type": "markdown",
   "id": "34195a94",
   "metadata": {},
   "source": [
    "### f"
   ]
  },
  {
   "cell_type": "code",
   "execution_count": null,
   "id": "a9126401",
   "metadata": {
    "ExecuteTime": {
     "end_time": "2023-04-24T14:44:19.325866Z",
     "start_time": "2023-04-24T14:44:19.128639Z"
    }
   },
   "outputs": [],
   "source": [
    "fig,axs = plt.subplots(2,2,figsize=(12.8,9.6))\n",
    "ax = axs.ravel()\n",
    "for i,(p1,p2,m1,m2,a) in enumerate(zip(P,P2,M,M2,ax)):\n",
    "    if(i==2):\n",
    "        a.plot(x,p1,lw=5,c='teal',label='stimulated \\n snapshot')\n",
    "        a.plot(x,p2,lw=5,c='r')\n",
    "    elif(i==3):\n",
    "        a.plot(x,p1,lw=5,c='teal')\n",
    "        a.plot(x,p2,lw=5,c='r',label='non-stimulated \\n snapshots')\n",
    "    else:\n",
    "        a.plot(x,p1,lw=5,c='teal',label='stimulated \\n snapshot')\n",
    "        a.plot(x,p2,lw=5,c='r',label='non-stimulated \\n snapshots')\n",
    "    a.axvline(m1,c='teal',ls='--',lw=4)\n",
    "    a.axvline(m2,c='r',ls='--',lw=4)\n",
    "    a.set_ylim((-0.34867040846353875, 7.322078577734313))\n",
    "    a.spines[\"right\"].set_visible(False)\n",
    "    a.spines[\"top\"].set_visible(False)\n",
    "    a.tick_params(axis='x', labelsize=40)\n",
    "    a.set_yticks([])\n",
    "leg = ax[-2].legend(fontsize=36)\n",
    "leg.get_frame().set_linewidth(0.0)\n",
    "leg = ax[-1].legend(fontsize=36)\n",
    "leg.get_frame().set_linewidth(0.0)"
   ]
  },
  {
   "cell_type": "markdown",
   "id": "495a7e1a",
   "metadata": {},
   "source": [
    "### g"
   ]
  },
  {
   "cell_type": "code",
   "execution_count": null,
   "id": "eeacdfae",
   "metadata": {
    "ExecuteTime": {
     "end_time": "2023-04-24T14:44:19.800237Z",
     "start_time": "2023-04-24T14:44:19.327755Z"
    }
   },
   "outputs": [],
   "source": [
    "Del_tot = []\n",
    "A = A1raw15.T[:,np.logical_and(D15!=0,abs(D15)<4)]\n",
    "for c1,c2 in zip([0,0.35,0.5,0.65],[0.35,0.5,0.65,100]):\n",
    "    col ='k'\n",
    "    Del1 = []\n",
    "    for i in range(7):\n",
    "        mask = np.logical_and(A[i]>c1,A[i]<c2)\n",
    "        Del1.append(A[i+1,mask]-A[i,mask])\n",
    "    Del_tot.append(Del1)\n",
    "Del_tot = np.stack(Del_tot)\n",
    "Del_wo = np.delete(Del_tot,2, axis=-1)\n",
    "\n",
    "fig = plt.figure(figsize=(12,12))\n",
    "ax = fig.add_subplot(111, projection='3d')\n",
    "nbins = 25\n",
    "red = np.array([1,0,0])\n",
    "blue = np.array([0,0,1])\n",
    "P2 = []\n",
    "M2 = []\n",
    "for i,(z,d) in enumerate(zip([0.2,0.35,0.5,0.65],Del_wo)):\n",
    "    d = np.hstack(d)\n",
    "    M2.append(d.mean())\n",
    "    hist, bins = np.histogram(d, bins=25,density=True)\n",
    "    xs = (bins[:-1] + bins[1:])/2\n",
    "    m = stats.lognorm.fit(d)\n",
    "    ax.bar(xs, hist, zs=z, zdir='x', color=red,alpha=0.6,width=(xs[-1]-xs[0])/nbins)\n",
    "    x = np.linspace(-0.5,0.6)\n",
    "    p1 = stats.lognorm.pdf(x, m[0], loc=m[1],scale=m[2])\n",
    "    P2.append(p1)\n",
    "    ax.plot(x,p1,zs=z, zdir='x', linewidth=2,c='k')\n",
    "ax.view_init(elev=30., azim=-30)\n",
    "ax.set_ylim(-0.6,0.6)\n",
    "ax.set_zticks([])\n",
    "ax.yaxis.labelpad = 10\n",
    "ax.xaxis.labelpad = 10\n",
    "plt.yticks(fontsize=40)\n",
    "plt.xticks(fontsize=40)\n",
    "plt.gca().invert_xaxis()\n",
    "\n",
    "fig = plt.figure(figsize=(12,12))\n",
    "ax = fig.add_subplot(111, projection='3d')\n",
    "nbins = 10\n",
    "red = np.array([1,0,0])\n",
    "blue = np.array([0,0,1])\n",
    "P = []\n",
    "M = []\n",
    "for i,(z,d) in enumerate(zip([0.2,0.35,0.5,0.65],Del_tot[:,2])):\n",
    "    d = np.hstack(d)\n",
    "    M.append(d.mean())\n",
    "    hist, bins = np.histogram(d, bins=nbins,density=True)\n",
    "    xs = (bins[:-1] + bins[1:])/2\n",
    "    m = stats.lognorm.fit(d)\n",
    "    ax.bar(xs, hist, zs=z, zdir='x', color='teal',alpha=0.6,width=(xs[-1]-xs[0])/nbins)\n",
    "    x = np.linspace(-0.5,0.6)\n",
    "    p1 = stats.lognorm.pdf(x, m[0], loc=m[1],scale=m[2])\n",
    "    P.append(p1)\n",
    "    ax.plot(x,p1,zs=z, zdir='x', linewidth=2,c='k')\n",
    "ax.view_init(elev=30., azim=-30)\n",
    "ax.set_ylim(-0.6,0.6)\n",
    "ax.set_zticks([])\n",
    "ax.yaxis.labelpad = 10\n",
    "ax.xaxis.labelpad = 10\n",
    "plt.yticks(fontsize=40)\n",
    "plt.xticks(fontsize=40)\n",
    "plt.gca().invert_xaxis()"
   ]
  },
  {
   "cell_type": "markdown",
   "id": "0426662c",
   "metadata": {
    "ExecuteTime": {
     "end_time": "2022-12-16T09:32:35.565057Z",
     "start_time": "2022-12-16T09:32:35.558503Z"
    }
   },
   "source": [
    "### h"
   ]
  },
  {
   "cell_type": "code",
   "execution_count": null,
   "id": "97c39122",
   "metadata": {
    "ExecuteTime": {
     "end_time": "2023-04-24T14:44:19.970497Z",
     "start_time": "2023-04-24T14:44:19.801489Z"
    }
   },
   "outputs": [],
   "source": [
    "fig,axs = plt.subplots(2,2,figsize=(12.8,9.6))\n",
    "ax = axs.ravel()\n",
    "for i,(p1,p2,m1,m2,a) in enumerate(zip(P,P2,M,M2,ax)):\n",
    "    if(i==2):\n",
    "        a.plot(x,p1,lw=5,c='teal',label='stimulated \\n snapshot')\n",
    "        a.plot(x,p2,lw=5,c='r')\n",
    "    elif(i==3):\n",
    "        a.plot(x,p1,lw=5,c='teal')\n",
    "        a.plot(x,p2,lw=5,c='r',label='non-stimulated \\n snapshots')\n",
    "    else:\n",
    "        a.plot(x,p1,lw=5,c='teal',label='stimulated \\n snapshot')\n",
    "        a.plot(x,p2,lw=5,c='r',label='non-stimulated \\n snapshots')\n",
    "    a.axvline(m1,c='teal',ls='--',lw=4)\n",
    "    a.axvline(m2,c='r',ls='--',lw=4)\n",
    "    a.set_ylim((-0.41984416128529756, 8.816727386991248))\n",
    "    a.spines[\"right\"].set_visible(False)\n",
    "    a.spines[\"top\"].set_visible(False)\n",
    "    a.tick_params(axis='x', labelsize=40)\n",
    "    a.set_yticks([])"
   ]
  },
  {
   "cell_type": "markdown",
   "id": "be57b094",
   "metadata": {},
   "source": [
    "## Figure 4"
   ]
  },
  {
   "cell_type": "markdown",
   "id": "339bf286",
   "metadata": {
    "ExecuteTime": {
     "end_time": "2022-12-16T09:37:37.133719Z",
     "start_time": "2022-12-16T09:37:37.126686Z"
    }
   },
   "source": [
    "### a"
   ]
  },
  {
   "cell_type": "code",
   "execution_count": null,
   "id": "e01e7490",
   "metadata": {
    "ExecuteTime": {
     "end_time": "2023-04-24T14:44:20.387763Z",
     "start_time": "2023-04-24T14:44:19.971505Z"
    }
   },
   "outputs": [],
   "source": [
    "lowermean = []\n",
    "lowerstd  = []\n",
    "semMean = []\n",
    "semSTD  = []\n",
    "for Cutoff in np.arange(0.2,0.66,0.15):\n",
    "    col ='k'\n",
    "    A = A1raw15[D15==0].T\n",
    "    Del1 = []\n",
    "    for i in [0,1,3,4,5,6]:\n",
    "        mask = np.logical_and(A[i]>Cutoff,A[i]<Cutoff+0.15)\n",
    "        Del1.append(A[i+1,mask]-A[i,mask])\n",
    "    DelF = np.hstack(Del1).flatten()\n",
    "    mu, std = stats.norm.fit(DelF)\n",
    "    semMean.append(stats.bootstrap((DelF,), np.mean, confidence_level=0.95,\n",
    "                         random_state=1, method='percentile').standard_error)\n",
    "    semSTD.append(stats.bootstrap((DelF,), np.std, confidence_level=0.95,\n",
    "                     random_state=1, method='percentile').standard_error)\n",
    "    lowermean.append(mu)\n",
    "    lowerstd.append(std)\n",
    "ml = stats.linregress(np.arange(0.2,0.66,0.15),lowermean)\n",
    "sl = stats.linregress(np.arange(0.2,0.66,0.15),lowerstd)\n",
    "plt.errorbar(np.arange(0.2,0.66,0.15),lowermean,semMean,capsize=5,ls='None',ms=8,fmt='.',color='r')\n",
    "plt.plot(np.arange(0.2,0.66,0.15),np.arange(0.2,0.66,0.15)*ml.slope+ml.intercept,ls='--',c=blue+[0.5,0.5,0],lw=3,label='Best fit')\n",
    "plt.errorbar(np.arange(0.2,0.66,0.15),lowerstd,semSTD,capsize=5,ls='None',ms=8,fmt='.',c='r')\n",
    "plt.plot(np.arange(0.2,0.66,0.15),np.arange(0.2,0.66,0.15)*sl.slope+sl.intercept,ls='--',c=blue*0.5,lw=3)\n",
    "print(\"Slope of mean: {:.3} and intercept: {:.3}\".format(ml.slope,ml.intercept))\n",
    "print(\"Slope of std: {:.3} and intercept: {:.3}\".format(sl.slope,sl.intercept))\n",
    "plt.plot(np.arange(0.2,0.66,0.15),\n",
    "         np.arange(0.2,0.66,0.15)*-0.2026966726161646+0.09590843817644161/1.2,lw=3,c='k',alpha=0.5,label='Best fit \\n from sham')\n",
    "plt.plot(np.arange(0.2,0.66,0.15),np.arange(0.2,0.66,0.15)*0.15289944615303516+0.029179477272253437,lw=3,c='k',alpha=0.5)\n",
    "\n",
    "lowermean2 = lowermean\n",
    "lowerstd2  = lowerstd\n",
    "leg = plt.legend(loc=5,fontsize=24)\n",
    "leg.get_frame().set_linewidth(0.0)\n",
    "plt.text(x=0.23,y=0.08,s=\"Fit of std. of change\",rotation=13,fontsize=28)\n",
    "plt.text(x=0.24,y=-0.05,s=\"Fit of mean changes\",rotation=-18,fontsize=28)\n",
    "ax = plt.gca()\n",
    "ax.spines[\"right\"].set_visible(False)\n",
    "ax.spines[\"top\"].set_visible(False)\n",
    "plt.xticks(fontsize=24)\n",
    "plt.yticks(fontsize=24)\n",
    "plt.show()"
   ]
  },
  {
   "cell_type": "markdown",
   "id": "a940ec26",
   "metadata": {},
   "source": [
    "### b"
   ]
  },
  {
   "cell_type": "code",
   "execution_count": null,
   "id": "78080910",
   "metadata": {
    "ExecuteTime": {
     "end_time": "2023-04-24T14:44:20.611016Z",
     "start_time": "2023-04-24T14:44:20.389138Z"
    }
   },
   "outputs": [],
   "source": [
    "lowermean = []\n",
    "lowerstd  = []\n",
    "semMean = []\n",
    "semSTD  = []\n",
    "for Cutoff in np.arange(0.2,0.66,0.15):\n",
    "    col ='k'\n",
    "    A = A1raw15.T[:,np.logical_and(D15!=0,abs(D15)<4)]\n",
    "    Del1 = []\n",
    "    for i in [0,1,3,4,5,6]:\n",
    "        mask = np.logical_and(A[i]>Cutoff,A[i]<Cutoff+0.15)\n",
    "        Del1.append(A[i+1,mask]-A[i,mask])\n",
    "    DelF = np.hstack(Del1).flatten()\n",
    "    mu, std = stats.norm.fit(DelF)\n",
    "    semMean.append(stats.bootstrap((DelF,), np.mean, confidence_level=0.95,\n",
    "                         random_state=1, method='percentile').standard_error)\n",
    "    semSTD.append(stats.bootstrap((DelF,), np.std, confidence_level=0.95,\n",
    "                     random_state=1, method='percentile').standard_error)\n",
    "    lowermean.append(mu)\n",
    "    lowerstd.append(std)\n",
    "ml = stats.linregress(np.arange(0.2,0.66,0.15),lowermean)\n",
    "sl = stats.linregress(np.arange(0.2,0.66,0.15),lowerstd)\n",
    "plt.errorbar(np.arange(0.2,0.66,0.15),lowermean,semMean,capsize=5,ls='None',ms=8,fmt='.',color='r')\n",
    "plt.plot(np.arange(0.2,0.66,0.15),np.arange(0.2,0.66,0.15)*ml.slope+ml.intercept,ls='--',c=blue+[0.5,0.5,0],lw=3,label='Best fit')\n",
    "plt.errorbar(np.arange(0.2,0.66,0.15),lowerstd,semSTD,capsize=5,ls='None',ms=8,fmt='.',c='r')\n",
    "plt.plot(np.arange(0.2,0.66,0.15),np.arange(0.2,0.66,0.15)*sl.slope+sl.intercept,ls='--',c=blue*0.5,lw=3)\n",
    "\n",
    "print(\"Slope of mean: {:.3} and intercept: {:.3}\".format(ml.slope,ml.intercept))\n",
    "print(\"Slope of std: {:.3} and intercept: {:.3}\".format(sl.slope,sl.intercept))\n",
    "plt.plot(np.arange(0.2,0.66,0.15),\n",
    "         np.arange(0.2,0.66,0.15)*-0.2026966726161646+0.09590843817644161/1.2,lw=3,c='k',alpha=0.5,label='Best fit \\n from sham')\n",
    "plt.plot(np.arange(0.2,0.66,0.15),np.arange(0.2,0.66,0.15)*0.15289944615303516+0.029179477272253437,lw=3,c='k',alpha=0.5)\n",
    "\n",
    "lowermean2 = lowermean\n",
    "lowerstd2  = lowerstd\n",
    "plt.text(x=0.23,y=0.08,s=\"Fit of std. of changes\",rotation=12,fontsize=28)\n",
    "plt.text(x=0.24,y=-0.065,s=\"Fit of mean changes\",rotation=-18,fontsize=28)\n",
    "ax = plt.gca()\n",
    "ax.spines[\"right\"].set_visible(False)\n",
    "ax.spines[\"top\"].set_visible(False)\n",
    "plt.xticks(fontsize=24)\n",
    "plt.yticks(fontsize=24)\n",
    "plt.show()"
   ]
  },
  {
   "cell_type": "markdown",
   "id": "880545b2",
   "metadata": {},
   "source": [
    "###  c"
   ]
  },
  {
   "cell_type": "code",
   "execution_count": null,
   "id": "1cf0757f",
   "metadata": {
    "ExecuteTime": {
     "end_time": "2023-04-24T14:44:20.735969Z",
     "start_time": "2023-04-24T14:44:20.611979Z"
    }
   },
   "outputs": [],
   "source": [
    "fig,ax = plt.subplots(2,1)\n",
    "plt.subplots_adjust(wspace=0, hspace=0)\n",
    "lowermean = []\n",
    "lowerstd  = []\n",
    "semMean = []\n",
    "semSTD  = []\n",
    "for Cutoff in np.arange(0.2,0.66,0.15):\n",
    "    col ='k'\n",
    "    A = A1raw15.T[:,np.logical_and(D15!=0,abs(D15)<4)]\n",
    "    Del1 = []\n",
    "    for i in [2]:\n",
    "        mask = np.logical_and(A[i]>Cutoff,A[i]<Cutoff+0.15)\n",
    "        Del1.append(A[i+1,mask]-A[i,mask])\n",
    "    DelF = np.hstack(Del1).flatten()\n",
    "    mu, std = stats.norm.fit(DelF)\n",
    "    semMean.append(stats.bootstrap((DelF,), np.mean, confidence_level=0.95,\n",
    "                         random_state=1, method='percentile').standard_error)\n",
    "    semSTD.append(stats.bootstrap((DelF,), np.std, confidence_level=0.95,\n",
    "                     random_state=1, method='percentile').standard_error)\n",
    "    lowermean.append(mu)\n",
    "    lowerstd.append(std)\n",
    "ml = stats.linregress(np.arange(0.2,0.66,0.15),lowermean)\n",
    "sl = stats.linregress(np.arange(0.2,0.66,0.15),lowerstd)\n",
    "ax[0].set_xticks([])\n",
    "plt.errorbar(np.arange(0.2,0.66,0.15),lowermean,semMean,capsize=5,ls='None',ms=8,fmt='.',color='teal')\n",
    "plt.plot(np.arange(0.2,0.66,0.15),np.arange(0.2,0.66,0.15)*ml.slope+ml.intercept,ls='--',c=blue+[0.5,0.5,0],lw=3,label='Best fit')\n",
    "ax[0].errorbar(np.arange(0.2,0.66,0.15),lowerstd,semSTD,capsize=5,ls='None',ms=8,fmt='.',c='teal')\n",
    "ax[0].plot(np.arange(0.2,0.66,0.15),np.arange(0.2,0.66,0.15)*sl.slope+sl.intercept,ls='--',c=blue*0.5,lw=3)\n",
    "print(\"Slope of mean: {:.3} and intercept: {:.3}\".format(ml.slope,ml.intercept))\n",
    "print(\"Slope of std: {:.3} and intercept: {:.3}\".format(sl.slope,sl.intercept))\n",
    "plt.plot(np.arange(0.2,0.66,0.15),\n",
    "         np.arange(0.2,0.66,0.15)*-0.2026966726161646+0.09590843817644161/1.2,lw=3,c='k',alpha=0.5,label='Best fit \\n from sham')\n",
    "ax[0].plot(np.arange(0.2,0.66,0.15),np.arange(0.2,0.66,0.15)*0.15289944615303516+0.029179477272253437,lw=3,c='k',alpha=0.5,label='Best fit \\n from sham')\n",
    "\n",
    "plt.xticks(fontsize=24)\n",
    "plt.yticks(fontsize=24)\n",
    "ax = plt.gca()\n",
    "plt.show()"
   ]
  },
  {
   "cell_type": "markdown",
   "id": "90d7031c",
   "metadata": {
    "ExecuteTime": {
     "end_time": "2022-12-16T09:40:02.954733Z",
     "start_time": "2022-12-16T09:40:02.941063Z"
    }
   },
   "source": [
    "### d"
   ]
  },
  {
   "cell_type": "code",
   "execution_count": null,
   "id": "723f3b99",
   "metadata": {
    "ExecuteTime": {
     "end_time": "2023-04-24T14:44:20.867944Z",
     "start_time": "2023-04-24T14:44:20.737118Z"
    }
   },
   "outputs": [],
   "source": [
    "fig,ax = plt.subplots(2,1)\n",
    "plt.subplots_adjust(wspace=0, hspace=0)\n",
    "lowermean = []\n",
    "lowerstd  = []\n",
    "semMean = []\n",
    "semSTD  = []\n",
    "for Cutoff in np.arange(0.2,0.66,0.15):\n",
    "    col ='k'\n",
    "    A = A1raw15[D15==0].T\n",
    "    Del1 = []\n",
    "    for i in [2]:\n",
    "        mask = np.logical_and(A[i]>Cutoff,A[i]<Cutoff+0.15)\n",
    "        Del1.append(A[i+1,mask]-A[i,mask])\n",
    "    DelF = np.hstack(Del1).flatten()\n",
    "    mu, std = stats.norm.fit(DelF)\n",
    "    semMean.append(stats.bootstrap((DelF,), np.mean, confidence_level=0.95,\n",
    "                         random_state=1, method='percentile').standard_error)\n",
    "    semSTD.append(stats.bootstrap((DelF,), np.std, confidence_level=0.95,\n",
    "                     random_state=1, method='percentile').standard_error)\n",
    "    lowermean.append(mu)\n",
    "    lowerstd.append(std)\n",
    "ml = stats.linregress(np.arange(0.2,0.66,0.15),lowermean)\n",
    "sl = stats.linregress(np.arange(0.2,0.66,0.15),lowerstd)\n",
    "ax[0].set_xticks([])\n",
    "plt.errorbar(np.arange(0.2,0.66,0.15),lowermean,semMean,capsize=5,ls='None',ms=8,fmt='.',color='teal')\n",
    "plt.plot(np.arange(0.2,0.66,0.15),np.arange(0.2,0.66,0.15)*ml.slope+ml.intercept,ls='--',c=blue+[0.5,0.5,0],lw=3,label='Best fit')\n",
    "ax[0].errorbar(np.arange(0.2,0.66,0.15),lowerstd,semSTD,capsize=5,ls='None',ms=8,fmt='.',c='teal')\n",
    "ax[0].plot(np.arange(0.2,0.66,0.15),np.arange(0.2,0.66,0.15)*sl.slope+sl.intercept,ls='--',c=blue*0.5,lw=3)\n",
    "print(\"Slope of mean: {:.3} and intercept: {:.3}\".format(ml.slope,ml.intercept))\n",
    "print(\"Slope of std: {:.3} and intercept: {:.3}\".format(sl.slope,sl.intercept))\n",
    "plt.plot(np.arange(0.2,0.66,0.15),\n",
    "         np.arange(0.2,0.66,0.15)*-0.2026966726161646+0.09590843817644161/1.2,lw=3,c='k',alpha=0.5,label='Best fit \\n from sham')\n",
    "ax[0].plot(np.arange(0.2,0.66,0.15),np.arange(0.2,0.66,0.15)*0.15289944615303516+0.029179477272253437,lw=3,c='k',alpha=0.5,label='Best fit \\n from sham')\n",
    "plt.xticks(fontsize=24)\n",
    "plt.yticks(fontsize=24)\n",
    "plt.show()"
   ]
  },
  {
   "cell_type": "markdown",
   "id": "45038c76",
   "metadata": {},
   "source": [
    "### e"
   ]
  },
  {
   "cell_type": "code",
   "execution_count": null,
   "id": "ec91db02",
   "metadata": {
    "ExecuteTime": {
     "end_time": "2023-04-24T14:44:22.355672Z",
     "start_time": "2023-04-24T14:44:20.869191Z"
    }
   },
   "outputs": [],
   "source": [
    "BaseDir = '/Users/maximilianeggl/Dropbox/PostDoc/HeteroPlast/heterosynaptic_project/MaxProj/'\n",
    "Dir = BaseDir+'CA1_15Spine/Sham/'\n",
    "D15,A1,(A1raw,_) = ReadFiles(Dir)\n",
    "A1raw15 = np.vstack(A1raw)\n",
    "Dir = BaseDir+'CA1_7Spine/Sham/'\n",
    "D7,A1,(A1raw,_) = ReadFiles(Dir)\n",
    "A1raw7 = np.vstack(A1raw)\n",
    "Dir = BaseDir+'CA1_3Spine/Sham/'\n",
    "D3,A1,(A1raw,_) = ReadFiles(Dir)\n",
    "A1raw3 = np.vstack(A1raw)\n",
    "Dir = BaseDir+'CA1_1Spine/Sham/'\n",
    "D1,A1,(A1raw,_) = ReadFiles(Dir)\n",
    "A1raw1 = np.vstack(A1raw)\n",
    "Araw = np.vstack([A1raw1,A1raw3,A1raw7,A1raw15]).T\n",
    "Araw = Araw[:,~np.isnan(Araw.sum(axis=0))]\n",
    "\n",
    "lowermean = []\n",
    "lowerstd  = []\n",
    "uppermean = []\n",
    "upperstd  = []\n",
    "semMean = []\n",
    "semSTD  = []\n",
    "for Cutoff in np.arange(0.2,1.0,0.15):\n",
    "    col ='k'\n",
    "    A = Araw\n",
    "    Del1 = []\n",
    "    for i in range(7):\n",
    "        mask = np.logical_and(A[i]>Cutoff,A[i]<Cutoff+0.15)\n",
    "        Del1.append(A[i+1,mask]-A[i,mask])\n",
    "    DelF = np.hstack(Del1).flatten()\n",
    "    DelF = np.hstack(Del1).flatten()\n",
    "    mu, std = stats.norm.fit(DelF)\n",
    "    semMean.append(stats.bootstrap((DelF,), np.mean, confidence_level=0.95,\n",
    "                         random_state=1, method='percentile').standard_error)\n",
    "    semSTD.append(stats.bootstrap((DelF,), np.std, confidence_level=0.95,\n",
    "                     random_state=1, method='percentile').standard_error)\n",
    "    lowermean.append(mu)\n",
    "    lowerstd.append(std)\n",
    "ml = stats.linregress(np.arange(0.2,1.0,0.15),lowermean)\n",
    "sl = stats.linregress(np.arange(0.2,1.0,0.15),lowerstd)"
   ]
  },
  {
   "cell_type": "code",
   "execution_count": null,
   "id": "1da536ce",
   "metadata": {
    "ExecuteTime": {
     "end_time": "2023-04-24T14:44:22.362220Z",
     "start_time": "2023-04-24T14:44:22.356589Z"
    }
   },
   "outputs": [],
   "source": [
    "def ContLNStim(theta,theta2,mu,mu_add=0):\n",
    "    fmean = sp.interpolate.interp1d(np.arange(-5.0,5.0,0.15),np.arange(-5.0,5.0,0.15)*ml.slope+ml.intercept)\n",
    "    fstd = sp.interpolate.interp1d(np.arange(-5.0,5.0,0.15),np.arange(-5.0,5.0,0.15)*sl.slope+sl.intercept)\n",
    "    fmean2 = sp.interpolate.interp1d(np.arange(-5.0,5.0,0.15),\n",
    "                                    np.arange(-5.0,5.0,0.15)*-0.33988898633439907+0.17344471005740245)\n",
    "    fstd2 = sp.interpolate.interp1d(np.arange(-5.0,5.0,0.15),\n",
    "                                    np.arange(-5.0,5.0,0.15)*0.12238578174002662+0.05526252834977198)\n",
    "\n",
    "\n",
    "    S = [A1raw15.T[0]]\n",
    "    for i in range(1,8):\n",
    "        if(i==3):\n",
    "            sMean = fmean2(S[-1])+S[-1]\n",
    "            sStd  = fstd2(S[-1])\n",
    "            mu+=mu_add\n",
    "        else:\n",
    "            sMean = fmean(S[-1])+S[-1]\n",
    "            sStd  = fstd(S[-1])\n",
    "        lmean = np.log((sMean**2)/np.sqrt(sStd**2+sMean**2))\n",
    "        lsig = np.sqrt(np.log((sStd/sMean)**2 + 1))\n",
    "        yi = sp.stats.lognorm.rvs(lsig, loc=-S[-1], scale=np.exp(lmean), size=len(S[0]))\n",
    "        nS = S[-1]+(yi)-theta2*(S[-1]-mu)\n",
    "        if(i>1 and i!=3):\n",
    "            nS += theta*(S[-2]-S[-1]) \n",
    "        S.append(nS)\n",
    "    return np.array(S)\n",
    "\n",
    "def ModelPlot(theta,mu,mu_add=0):\n",
    "    S = ContLNStim(theta,mu,mu_add)\n",
    "    pltDist(S)\n",
    "    pltDyn(S)\n",
    "    return S"
   ]
  },
  {
   "cell_type": "code",
   "execution_count": null,
   "id": "dee905af",
   "metadata": {
    "ExecuteTime": {
     "end_time": "2023-04-24T14:44:23.454764Z",
     "start_time": "2023-04-24T14:44:22.368053Z"
    },
    "scrolled": false
   },
   "outputs": [],
   "source": [
    "S_MC = []\n",
    "for k in range(1000):\n",
    "    S_MC.append(ContLNStim(0.2,0.11,0.6))\n",
    "S_MC = np.array(S_MC)\n",
    "XX1 = []\n",
    "for i in range(S_MC.shape[-2]):\n",
    "    X1 = [] \n",
    "    for i,s in enumerate(S_MC[:,i,:]):\n",
    "        x = np.histogram(s,bins=15,density=True,range=(np.nanmin(Araw), np.nanmax(Araw)))\n",
    "        X1.append(x[0]/(sum(x[0])*(x[1][1]-x[1][0])))\n",
    "    X2 = (x[1][:-1]+x[1][1:])/2\n",
    "    XX1.append(X1)\n",
    "for i,s in enumerate(S_MC[0,:,:]):\n",
    "    x = np.histogram(s,bins=15,density=True,range=(np.nanmin(s), np.nanmax(s)))\n",
    "    if(i<3):\n",
    "        sns.kdeplot(s,c='r',alpha=0.5)\n",
    "    else:\n",
    "        sns.kdeplot(s,c='b',alpha=0.5)\n",
    "plt.plot(X2,np.vstack(XX1[0]+XX1[1]+XX1[2]).mean(axis=0),'r',label='Pre-stim.',lw=3)\n",
    "plt.fill_between(X2, np.vstack(XX1[0]+XX1[1]+XX1[2]).mean(axis=0)-np.vstack(XX1[0]+XX1[1]+XX1[2]).std(axis=0),\n",
    "                 np.vstack(XX1[0]+XX1[1]+XX1[2]).mean(axis=0)+np.vstack(XX1[0]+XX1[1]+XX1[2]).std(axis=0),\n",
    "                 color='r',alpha=0.25)\n",
    "plt.plot(X2,np.vstack(XX1[3]+XX1[4]+XX1[6]+XX1[4]+XX1[7]).mean(axis=0),'b',label='Post-stim.',lw=3)\n",
    "plt.fill_between(X2, np.vstack(XX1[3]+XX1[4]+XX1[6]+XX1[4]+XX1[7]).mean(axis=0)-np.vstack(XX1[3]+XX1[4]+XX1[6]+XX1[4]+XX1[7]).std(axis=0),\n",
    "                 np.vstack(XX1[3]+XX1[4]+XX1[6]+XX1[4]+XX1[7]).mean(axis=0)+np.vstack(XX1[3]+XX1[4]+XX1[6]+XX1[4]+XX1[7]).std(axis=0),\n",
    "                 color='b',alpha=0.25)\n",
    "plt.xlim([0.2,1.5])\n",
    "leg = plt.legend(fontsize=24)\n",
    "leg.get_frame().set_linewidth(0.0)\n",
    "plt.yticks([])\n",
    "ax = plt.gca()\n",
    "ax.spines[\"right\"].set_visible(False)\n",
    "ax.spines[\"top\"].set_visible(False)\n",
    "plt.ylabel('')\n",
    "plt.show()\n",
    "\n",
    "t = np.random.choice(1000,1000)\n",
    "X1 = np.array(XX1)[:3,t,:]\n",
    "X2 = np.array(XX1)[3,t,:]\n",
    "X3 = np.array(XX1)[-1,t,:]\n",
    "T = []\n",
    "for i in range(X1.shape[-2]):\n",
    "    P1 = [x/sum(x) for x in X1[:,i,:]]\n",
    "    T.append(np.array([sum(p[p>0]*np.log2(1/p[p>0])) for p in P1]).mean(axis=0))\n",
    "    \n",
    "T1_s = []\n",
    "for x in X2:\n",
    "    P1 = x/sum(x)\n",
    "    T1_s.append([sum(p[p>0]*np.log2(1/p[p>0])) for p in [P1]])\n",
    "\n",
    "T1_e = []\n",
    "for x in X3:\n",
    "    P1 = x/sum(x)\n",
    "    T1_e.append([sum(p[p>0]*np.log2(1/p[p>0])) for p in [P1]])\n",
    "        "
   ]
  },
  {
   "cell_type": "code",
   "execution_count": null,
   "id": "3613d70f",
   "metadata": {
    "ExecuteTime": {
     "end_time": "2023-04-24T14:44:23.524087Z",
     "start_time": "2023-04-24T14:44:23.455664Z"
    }
   },
   "outputs": [],
   "source": [
    "means = np.mean(S_MC.mean(axis=-1),axis=0)\n",
    "sem   = sp.stats.sem(S_MC[0],axis=1)\n",
    "plt.errorbar(x = np.arange(3,8),y = means[3:], yerr=sem[3:],lw=4,c='b')\n",
    "plt.errorbar(x = np.arange(3),y = means[:3], yerr=sem[:3],lw=4,c='r')\n",
    "plt.plot([2,3],[means[2],means[3]],'b',lw=4)\n",
    "plt.ylim([0.46,0.54])\n",
    "plt.yticks(fontsize=48)\n",
    "plt.xticks(fontsize=48)\n",
    "plt.show()"
   ]
  },
  {
   "cell_type": "markdown",
   "id": "31be1009",
   "metadata": {
    "ExecuteTime": {
     "end_time": "2022-12-16T10:22:06.234376Z",
     "start_time": "2022-12-16T10:22:06.226198Z"
    }
   },
   "source": [
    "### f"
   ]
  },
  {
   "cell_type": "code",
   "execution_count": null,
   "id": "051be58c",
   "metadata": {
    "ExecuteTime": {
     "end_time": "2023-04-24T14:44:24.693718Z",
     "start_time": "2023-04-24T14:44:23.525386Z"
    }
   },
   "outputs": [],
   "source": [
    "def ContLNStimMu(theta,theta2,mu,mu_add=0):\n",
    "    fmean = sp.interpolate.interp1d(np.arange(-5.0,5.0,0.15),np.arange(-5.0,5.0,0.15)*ml.slope+ml.intercept)\n",
    "    fstd = sp.interpolate.interp1d(np.arange(-5.0,5.0,0.15),np.arange(-5.0,5.0,0.15)*sl.slope+sl.intercept)\n",
    "    fmean2 = sp.interpolate.interp1d(np.arange(-5.0,5.0,0.15),\n",
    "                                    np.arange(-5.0,5.0,0.15)*-0.33988898633439907+0.17344471005740245)\n",
    "    fstd2 = sp.interpolate.interp1d(np.arange(-5.0,5.0,0.15),\n",
    "                                    np.arange(-5.0,5.0,0.15)*0.12238578174002662+0.05526252834977198)\n",
    "\n",
    "\n",
    "    S = [A1raw15.T[0]]\n",
    "    for i in range(1,8):\n",
    "        if(i==3):\n",
    "            mu+=mu_add\n",
    "            sMean = fmean(S[-1])+S[-1]\n",
    "            sStd  = fstd(S[-1])\n",
    "        else:\n",
    "            sMean = fmean(S[-1])+S[-1]\n",
    "            sStd  = fstd(S[-1])\n",
    "        lmean = np.log((sMean**2)/np.sqrt(sStd**2+sMean**2))\n",
    "        lsig = np.sqrt(np.log((sStd/sMean)**2 + 1))\n",
    "        yi = sp.stats.lognorm.rvs(lsig, loc=-S[-1], scale=np.exp(lmean), size=len(S[0]))\n",
    "        nS = S[-1]+(yi)-theta2*(S[-1]-mu)\n",
    "        if(i>1 and i!=3):\n",
    "            nS += theta*(S[-2]-S[-1]) \n",
    "        S.append(nS)\n",
    "    return np.array(S)\n",
    "\n",
    "S_MC = []\n",
    "for k in range(1000):\n",
    "    S_MC.append(ContLNStimMu(0.2,0.11,0.6,0.14589222947969693))\n",
    "S_MC = np.array(S_MC)\n",
    "XX1 = []\n",
    "for i in range(S_MC.shape[-2]):\n",
    "    X1 = [] \n",
    "    for i,s in enumerate(S_MC[:,i,:]):\n",
    "        x = np.histogram(s,bins=15,density=True,range=(np.nanmin(Araw), np.nanmax(Araw)))\n",
    "        X1.append(x[0]/(sum(x[0])*(x[1][1]-x[1][0])))\n",
    "    X2 = (x[1][:-1]+x[1][1:])/2\n",
    "    XX1.append(X1)\n",
    "for i,s in enumerate(S_MC[0,:,:]):\n",
    "    x = np.histogram(s,bins=15,density=True,range=(np.nanmin(s), np.nanmax(s)))\n",
    "    if(i<3):\n",
    "        sns.kdeplot(s,c='r',alpha=0.5)\n",
    "    else:\n",
    "        sns.kdeplot(s,c='b',alpha=0.5)\n",
    "plt.plot(X2,np.vstack(XX1[0]+XX1[1]+XX1[2]).mean(axis=0),'r',label='Pre-stim.',lw=3)\n",
    "plt.fill_between(X2, np.vstack(XX1[0]+XX1[1]+XX1[2]).mean(axis=0)-np.vstack(XX1[0]+XX1[1]+XX1[2]).std(axis=0),\n",
    "                 np.vstack(XX1[0]+XX1[1]+XX1[2]).mean(axis=0)+np.vstack(XX1[0]+XX1[1]+XX1[2]).std(axis=0),\n",
    "                 color='r',alpha=0.25)\n",
    "plt.plot(X2,np.vstack(XX1[3]+XX1[4]+XX1[6]+XX1[4]+XX1[7]).mean(axis=0),'b',label='Post-stim.',lw=3)\n",
    "plt.fill_between(X2, np.vstack(XX1[3]+XX1[4]+XX1[6]+XX1[4]+XX1[7]).mean(axis=0)-np.vstack(XX1[3]+XX1[4]+XX1[6]+XX1[4]+XX1[7]).std(axis=0),\n",
    "                 np.vstack(XX1[3]+XX1[4]+XX1[6]+XX1[4]+XX1[7]).mean(axis=0)+np.vstack(XX1[3]+XX1[4]+XX1[6]+XX1[4]+XX1[7]).std(axis=0),\n",
    "                 color='b',alpha=0.25)\n",
    "plt.xlim([0.2,1.5])\n",
    "leg = plt.legend(fontsize=24)\n",
    "leg.get_frame().set_linewidth(0.0)\n",
    "plt.yticks([])\n",
    "ax = plt.gca()\n",
    "ax.spines[\"right\"].set_visible(False)\n",
    "ax.spines[\"top\"].set_visible(False)\n",
    "plt.ylabel('')\n",
    "plt.show()\n",
    "\n",
    "\n",
    "X1 = np.array(XX1)[:3,t,:]\n",
    "X2 = np.array(XX1)[3,t,:]\n",
    "X3 = np.array(XX1)[-1,t,:]\n",
    "T = []\n",
    "for i in range(X1.shape[-2]):\n",
    "    P1 = [x/sum(x) for x in X1[:,i,:]]\n",
    "    T.append(np.array([sum(p[p>0]*np.log2(1/p[p>0])) for p in P1]).mean(axis=0))\n",
    "    \n",
    "T2_s = []\n",
    "for x in X2:\n",
    "    P1 = x/sum(x)\n",
    "    T2_s.append([sum(p[p>0]*np.log2(1/p[p>0])) for p in [P1]])\n",
    "\n",
    "T2_e = []\n",
    "for x in X3:\n",
    "    P1 = x/sum(x)\n",
    "    T2_e.append([sum(p[p>0]*np.log2(1/p[p>0])) for p in [P1]])\n",
    "        "
   ]
  },
  {
   "cell_type": "code",
   "execution_count": null,
   "id": "124a59c4",
   "metadata": {
    "ExecuteTime": {
     "end_time": "2023-04-24T14:44:24.757942Z",
     "start_time": "2023-04-24T14:44:24.694676Z"
    }
   },
   "outputs": [],
   "source": [
    "means = np.mean(S_MC.mean(axis=-1),axis=0)\n",
    "sem   = sp.stats.sem(S_MC[0],axis=1)\n",
    "plt.errorbar(x = np.arange(3,8),y = means[3:], yerr=sem[3:],lw=4,c='b')\n",
    "plt.errorbar(x = np.arange(3),y = means[:3], yerr=sem[:3],lw=4,c='r')\n",
    "plt.plot([2,3],[means[2],means[3]],'b',lw=4)\n",
    "plt.ylim([0.46,0.54])\n",
    "plt.yticks(fontsize=48)\n",
    "plt.xticks(fontsize=48)\n",
    "plt.show()"
   ]
  },
  {
   "cell_type": "markdown",
   "id": "12b8b380",
   "metadata": {},
   "source": [
    "### g"
   ]
  },
  {
   "cell_type": "code",
   "execution_count": null,
   "id": "9db97a11",
   "metadata": {
    "ExecuteTime": {
     "end_time": "2023-04-24T14:44:25.837456Z",
     "start_time": "2023-04-24T14:44:24.759136Z"
    }
   },
   "outputs": [],
   "source": [
    "S_MC = []\n",
    "for k in range(1000):\n",
    "    S_MC.append(ContLNStim(0.2,0.11,0.6,0.14589222947969693))\n",
    "S_MC = np.array(S_MC)\n",
    "XX1 = []\n",
    "for i in range(S_MC.shape[-2]):\n",
    "    X1 = [] \n",
    "    for i,s in enumerate(S_MC[:,i,:]):\n",
    "        x = np.histogram(s,bins=15,density=True,range=(np.nanmin(Araw), np.nanmax(Araw)))\n",
    "        X1.append(x[0]/(sum(x[0])*(x[1][1]-x[1][0])))\n",
    "    X2 = (x[1][:-1]+x[1][1:])/2\n",
    "    XX1.append(X1)\n",
    "for i,s in enumerate(S_MC[0,:,:]):\n",
    "    x = np.histogram(s,bins=15,density=True,range=(np.nanmin(s), np.nanmax(s)))\n",
    "    if(i<3):\n",
    "        sns.kdeplot(s,c='r',alpha=0.5)\n",
    "    else:\n",
    "        sns.kdeplot(s,c='b',alpha=0.5)\n",
    "plt.plot(X2,np.vstack(XX1[0]+XX1[1]+XX1[2]).mean(axis=0),'r',label='Pre-stim.',lw=3)\n",
    "plt.fill_between(X2, np.vstack(XX1[0]+XX1[1]+XX1[2]).mean(axis=0)-np.vstack(XX1[0]+XX1[1]+XX1[2]).std(axis=0),\n",
    "                 np.vstack(XX1[0]+XX1[1]+XX1[2]).mean(axis=0)+np.vstack(XX1[0]+XX1[1]+XX1[2]).std(axis=0),\n",
    "                 color='r',alpha=0.25)\n",
    "plt.plot(X2,np.vstack(XX1[3]+XX1[4]+XX1[6]+XX1[4]+XX1[7]).mean(axis=0),'b',label='Post-stim.',lw=3)\n",
    "plt.fill_between(X2, np.vstack(XX1[3]+XX1[4]+XX1[6]+XX1[4]+XX1[7]).mean(axis=0)-np.vstack(XX1[3]+XX1[4]+XX1[6]+XX1[4]+XX1[7]).std(axis=0),\n",
    "                 np.vstack(XX1[3]+XX1[4]+XX1[6]+XX1[4]+XX1[7]).mean(axis=0)+np.vstack(XX1[3]+XX1[4]+XX1[6]+XX1[4]+XX1[7]).std(axis=0),\n",
    "                 color='b',alpha=0.25)\n",
    "plt.xlim([0.2,1.5])\n",
    "leg = plt.legend(fontsize=24)\n",
    "leg.get_frame().set_linewidth(0.0)\n",
    "plt.yticks([])\n",
    "ax = plt.gca()\n",
    "ax.spines[\"right\"].set_visible(False)\n",
    "ax.spines[\"top\"].set_visible(False)\n",
    "plt.ylabel('')\n",
    "plt.show()\n",
    "\n",
    "X1 = np.array(XX1)[:3,t,:]\n",
    "X2 = np.array(XX1)[3,t,:]\n",
    "X3 = np.array(XX1)[-1,t,:]\n",
    "T = []\n",
    "for i in range(X1.shape[-2]):\n",
    "    P1 = [x/sum(x) for x in X1[:,i,:]]\n",
    "    T.append(np.array([sum(p[p>0]*np.log2(1/p[p>0])) for p in P1]).mean(axis=0))\n",
    "    \n",
    "T3_s = []\n",
    "for x in X2:\n",
    "    P1 = x/sum(x)\n",
    "    T3_s.append([sum(p[p>0]*np.log2(1/p[p>0])) for p in [P1]])\n",
    "\n",
    "T3_e = []\n",
    "for x in X3:\n",
    "    P1 = x/sum(x)\n",
    "    T3_e.append([sum(p[p>0]*np.log2(1/p[p>0])) for p in [P1]])\n",
    "        "
   ]
  },
  {
   "cell_type": "code",
   "execution_count": null,
   "id": "5757dba5",
   "metadata": {
    "ExecuteTime": {
     "end_time": "2023-04-24T14:44:25.902667Z",
     "start_time": "2023-04-24T14:44:25.838385Z"
    }
   },
   "outputs": [],
   "source": [
    "means = np.mean(S_MC.mean(axis=-1),axis=0)\n",
    "sem   = sp.stats.sem(S_MC[0],axis=1)\n",
    "plt.errorbar(x = np.arange(3,8),y = means[3:], yerr=sem[3:],lw=4,c='b')\n",
    "plt.errorbar(x = np.arange(3),y = means[:3], yerr=sem[:3],lw=4,c='r')\n",
    "plt.plot([2,3],[means[2],means[3]],'b',lw=4)\n",
    "plt.ylim([0.46,0.54])\n",
    "plt.yticks(fontsize=48)\n",
    "plt.xticks(fontsize=48)\n",
    "plt.show()"
   ]
  },
  {
   "cell_type": "markdown",
   "id": "451c8eb3",
   "metadata": {},
   "source": [
    "### h"
   ]
  },
  {
   "cell_type": "code",
   "execution_count": null,
   "id": "857f5880",
   "metadata": {
    "ExecuteTime": {
     "end_time": "2023-04-24T14:44:27.016486Z",
     "start_time": "2023-04-24T14:44:25.903909Z"
    }
   },
   "outputs": [],
   "source": [
    "def ContLNStimSmall(theta,theta2,mu,mu_add=0):\n",
    "    fmean = sp.interpolate.interp1d(np.arange(-5.0,5.0,0.15),np.arange(-5.0,5.0,0.15)*ml.slope+ml.intercept)\n",
    "    fstd = sp.interpolate.interp1d(np.arange(-5.0,5.0,0.15),np.arange(-5.0,5.0,0.15)*sl.slope+sl.intercept)\n",
    "    fmean2 = sp.interpolate.interp1d(np.arange(-5.0,5.0,0.15),\n",
    "                                    np.arange(-5.0,5.0,0.15)*-0.33988898633439907+0.17344471005740245)\n",
    "    fstd2 = sp.interpolate.interp1d(np.arange(-5.0,5.0,0.15),\n",
    "                                    np.arange(-5.0,5.0,0.15)*0.12238578174002662+0.05526252834977198)\n",
    "\n",
    "\n",
    "    S = [A1raw15.T[0]]\n",
    "    for i in range(1,8):\n",
    "        sMean = fmean(S[-1]) + S[-1]\n",
    "        sStd  = fstd(S[-1])\n",
    "        if(i==3):\n",
    "            sMean[S[-1]<0.35] += 0.15\n",
    "            mu   += mu_add\n",
    "        lmean = np.log((sMean**2)/np.sqrt(sStd**2+sMean**2))\n",
    "        lsig = np.sqrt(np.log((sStd/sMean)**2 + 1))\n",
    "        yi = sp.stats.lognorm.rvs(lsig, loc=-S[-1], scale=np.exp(lmean), size=len(S[0]))\n",
    "        nS = S[-1]+(yi)-theta2*(S[-1]-mu)\n",
    "        if(i>1 and i!=3):\n",
    "            nS += theta*(S[-2]-S[-1]) \n",
    "        S.append(nS)\n",
    "    return np.array(S)\n",
    "\n",
    "S_MC = []\n",
    "for k in range(1000):\n",
    "    S_MC.append(ContLNStimSmall(0.2,0.11,0.6,0.14589222947969693))\n",
    "S_MC = np.array(S_MC)\n",
    "XX1 = []\n",
    "for i in range(S_MC.shape[-2]):\n",
    "    X1 = [] \n",
    "    for i,s in enumerate(S_MC[:,i,:]):\n",
    "        x = np.histogram(s,bins=15,density=True,range=(np.nanmin(Araw), np.nanmax(Araw)))\n",
    "        X1.append(x[0]/(sum(x[0])*(x[1][1]-x[1][0])))\n",
    "    X2 = (x[1][:-1]+x[1][1:])/2\n",
    "    XX1.append(X1)\n",
    "for i,s in enumerate(S_MC[0,:,:]):\n",
    "    x = np.histogram(s,bins=15,density=True,range=(np.nanmin(s), np.nanmax(s)))\n",
    "    if(i<3):\n",
    "        sns.kdeplot(s,c='r',alpha=0.5)\n",
    "    else:\n",
    "        sns.kdeplot(s,c='b',alpha=0.5)\n",
    "plt.plot(X2,np.vstack(XX1[0]+XX1[1]+XX1[2]).mean(axis=0),'r',label='Pre-stim.',lw=3)\n",
    "plt.fill_between(X2, np.vstack(XX1[0]+XX1[1]+XX1[2]).mean(axis=0)-np.vstack(XX1[0]+XX1[1]+XX1[2]).std(axis=0),\n",
    "                 np.vstack(XX1[0]+XX1[1]+XX1[2]).mean(axis=0)+np.vstack(XX1[0]+XX1[1]+XX1[2]).std(axis=0),\n",
    "                 color='r',alpha=0.25)\n",
    "plt.plot(X2,np.vstack(XX1[3]+XX1[4]+XX1[6]+XX1[4]+XX1[7]).mean(axis=0),'b',label='Post-stim.',lw=3)\n",
    "plt.fill_between(X2, np.vstack(XX1[3]+XX1[4]+XX1[6]+XX1[4]+XX1[7]).mean(axis=0)-np.vstack(XX1[3]+XX1[4]+XX1[6]+XX1[4]+XX1[7]).std(axis=0),\n",
    "                 np.vstack(XX1[3]+XX1[4]+XX1[6]+XX1[4]+XX1[7]).mean(axis=0)+np.vstack(XX1[3]+XX1[4]+XX1[6]+XX1[4]+XX1[7]).std(axis=0),\n",
    "                 color='b',alpha=0.25)\n",
    "plt.xlim([0.2,1.5])\n",
    "leg = plt.legend(fontsize=24)\n",
    "leg.get_frame().set_linewidth(0.0)\n",
    "plt.yticks([])\n",
    "ax = plt.gca()\n",
    "ax.spines[\"right\"].set_visible(False)\n",
    "ax.spines[\"top\"].set_visible(False)\n",
    "plt.ylabel('')\n",
    "plt.show()\n",
    "\n",
    "\n",
    "X1 = np.array(XX1)[:3,t,:]\n",
    "X2 = np.array(XX1)[3,t,:]\n",
    "X3 = np.array(XX1)[-1,t,:]\n",
    "T = []\n",
    "for i in range(X1.shape[-2]):\n",
    "    P1 = [x/sum(x) for x in X1[:,i,:]]\n",
    "    T.append(np.array([sum(p[p>0]*np.log2(1/p[p>0])) for p in P1]).mean(axis=0))\n",
    "    \n",
    "T4_s = []\n",
    "for x in X2:\n",
    "    P1 = x/sum(x)\n",
    "    T4_s.append([sum(p[p>0]*np.log2(1/p[p>0])) for p in [P1]])\n",
    "\n",
    "T4_e = []\n",
    "for x in X3:\n",
    "    P1 = x/sum(x)\n",
    "    T4_e.append([sum(p[p>0]*np.log2(1/p[p>0])) for p in [P1]])\n",
    "        "
   ]
  },
  {
   "cell_type": "code",
   "execution_count": null,
   "id": "7cc51ca3",
   "metadata": {
    "ExecuteTime": {
     "end_time": "2023-04-24T14:44:27.078167Z",
     "start_time": "2023-04-24T14:44:27.017427Z"
    }
   },
   "outputs": [],
   "source": [
    "means = np.mean(S_MC.mean(axis=-1),axis=0)\n",
    "sem   = sp.stats.sem(S_MC[0],axis=1)\n",
    "plt.errorbar(x = np.arange(3,8),y = means[3:], yerr=sem[3:],lw=4,c='b')\n",
    "plt.errorbar(x = np.arange(3),y = means[:3], yerr=sem[:3],lw=4,c='r')\n",
    "plt.plot([2,3],[means[2],means[3]],'b',lw=4)\n",
    "plt.ylim([0.46,0.54])\n",
    "plt.yticks(fontsize=48)\n",
    "plt.xticks(fontsize=48)\n",
    "plt.show()"
   ]
  },
  {
   "cell_type": "markdown",
   "id": "a67ec02c",
   "metadata": {},
   "source": [
    "### i"
   ]
  },
  {
   "cell_type": "code",
   "execution_count": null,
   "id": "961078a4",
   "metadata": {
    "ExecuteTime": {
     "end_time": "2023-04-24T14:44:27.256050Z",
     "start_time": "2023-04-24T14:44:27.080000Z"
    }
   },
   "outputs": [],
   "source": [
    "X1 = np.array(XX1[:3]).mean(axis=0)\n",
    "X2 = np.array(XX1[-1])\n",
    "t = np.random.choice(1000,500)\n",
    "P1 = np.array([x/sum(x) for x in X1])\n",
    "P2_4 = np.array([x/sum(x) for x in X2])\n",
    "\n",
    "\n",
    "#P1 = XX1[0].mean(axis=0)/sum(XX1[0].mean(axis=0))\n",
    "#P2 = XX1[3].mean(axis=0)/sum(XX1[3].mean(axis=0))\n",
    "boxprops = dict(linewidth=3, color='b')\n",
    "whiskerprops = dict(linewidth=3, color='b')\n",
    "capprops = dict(linewidth=3, color='b')\n",
    "medianprops = dict( linewidth=3, color='r')\n",
    "c='r'\n",
    "plt.axhline(2.69,c='gray',lw=3,label='Expt. entropy \\n after stim.')\n",
    "y1 = np.array([2.75]*10)\n",
    "y2 = np.array([2.67]*10)\n",
    "plt.fill_between(np.linspace(-1.47500000000000003, 9.5,10),y2,y1,alpha=0.33,color='gray')\n",
    "plt.boxplot(np.array(T),positions=[0],\n",
    "            bootstrap=1000,widths=0.8,boxprops=dict(linewidth=3, color=c),\n",
    "            capprops=dict(linewidth=3,color=c),\n",
    "            whiskerprops=dict(linewidth=3,color=c),\n",
    "            flierprops=dict(linewidth=3,color=c, markeredgecolor=c),\n",
    "            medianprops=dict(linewidth=3,color='k'),labels=['pre-stim'],showfliers=False,)\n",
    "c='b'\n",
    "plt.boxplot(np.array(T1_e),positions=[3],\n",
    "            bootstrap=1000,widths=0.8,boxprops=dict(linewidth=3, color=c),\n",
    "            capprops=dict(linewidth=3,color=c),\n",
    "            whiskerprops=dict(linewidth=3,color=c),\n",
    "            flierprops=dict(linewidth=3,color=c, markeredgecolor=c),\n",
    "            medianprops=dict(linewidth=3,color='k'),showfliers=False,labels=[r'C1'])\n",
    "plt.boxplot(np.array(T2_e),positions=[5],\n",
    "            bootstrap=1000,widths=0.8,boxprops=dict(linewidth=3, color=c),\n",
    "            capprops=dict(linewidth=3,color=c),\n",
    "            whiskerprops=dict(linewidth=3,color=c),\n",
    "            flierprops=dict(linewidth=3,color=c, markeredgecolor=c),\n",
    "            medianprops=dict(linewidth=3,color='k'),showfliers=False,labels=[r'C2'])\n",
    "\n",
    "plt.boxplot(np.array(T3_e),positions=[7],\n",
    "            bootstrap=1000,widths=0.8,boxprops=dict(linewidth=3, color=c),\n",
    "            capprops=dict(linewidth=3,color=c),\n",
    "            whiskerprops=dict(linewidth=3,color=c),\n",
    "            flierprops=dict(linewidth=3,color=c, markeredgecolor=c),\n",
    "            medianprops=dict(linewidth=3,color='k'),showfliers=False,labels=[r'C3'])\n",
    "\n",
    "plt.boxplot(np.array(T4_e),positions=[9],\n",
    "            bootstrap=1000,widths=0.8,boxprops=dict(linewidth=3, color=c),\n",
    "            capprops=dict(linewidth=3,color=c),\n",
    "            whiskerprops=dict(linewidth=3,color=c),\n",
    "            flierprops=dict(linewidth=3,color=c, markeredgecolor=c),\n",
    "            medianprops=dict(linewidth=3,color='k'),showfliers=False,labels=[r'C4'])\n",
    "\n",
    "h = barplot_annotate_brackets(0,1,stats.ttest_ind(np.array(T)\n",
    "                                                  ,np.array(T1_e)).pvalue,\n",
    "                               [0,6], [2.43,2.86],fs=32)\n",
    "h = barplot_annotate_brackets(0,1,stats.ttest_ind(np.array(T4_e)[t]\n",
    "                                                  ,np.array(T3_e)[t]).pvalue,\n",
    "                               [7,9], [2.88,2.88],fs=32)\n",
    "ax = plt.gca()\n",
    "plt.xticks(fontsize=32)\n",
    "plt.gca().yaxis.tick_left()\n",
    "ax.spines[\"right\"].set_visible(False)\n",
    "ax.spines[\"top\"].set_visible(False)\n",
    "ax.set_xlim(-1.47500000000000003, 9.5)\n",
    "plt.plot([3,9],[2.88,2.88],'k-')\n",
    "plt.show()"
   ]
  },
  {
   "cell_type": "code",
   "execution_count": null,
   "id": "77ef57de",
   "metadata": {},
   "outputs": [],
   "source": []
  }
 ],
 "metadata": {
  "hide_input": false,
  "kernelspec": {
   "display_name": "Python 3 (ipykernel)",
   "language": "python",
   "name": "python3"
  },
  "language_info": {
   "codemirror_mode": {
    "name": "ipython",
    "version": 3
   },
   "file_extension": ".py",
   "mimetype": "text/x-python",
   "name": "python",
   "nbconvert_exporter": "python",
   "pygments_lexer": "ipython3",
   "version": "3.9.16"
  },
  "toc": {
   "base_numbering": 1,
   "nav_menu": {},
   "number_sections": true,
   "sideBar": true,
   "skip_h1_title": false,
   "title_cell": "Table of Contents",
   "title_sidebar": "Contents",
   "toc_cell": false,
   "toc_position": {
    "height": "calc(100% - 180px)",
    "left": "10px",
    "top": "150px",
    "width": "451.764679px"
   },
   "toc_section_display": true,
   "toc_window_display": true
  }
 },
 "nbformat": 4,
 "nbformat_minor": 5
}
